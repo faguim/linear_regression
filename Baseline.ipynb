{
 "cells": [
  {
   "cell_type": "markdown",
   "metadata": {},
   "source": [
    "# Baseline: Regressão Linear com 1 feature"
   ]
  },
  {
   "cell_type": "code",
   "execution_count": 1,
   "metadata": {
    "collapsed": true
   },
   "outputs": [],
   "source": [
    "import pandas as pd\n",
    "%matplotlib inline\n",
    "import matplotlib.pyplot as plt\n",
    "from sklearn.linear_model import LinearRegression\n",
    "import numpy as np\n",
    "from sklearn import datasets, linear_model\n",
    "from sklearn import preprocessing\n",
    "from sklearn.model_selection import train_test_split\n",
    "from sklearn.metrics import mean_squared_error\n",
    "from sklearn.pipeline import Pipeline\n",
    "from sklearn.preprocessing import StandardScaler\n",
    "from sklearn.model_selection import train_test_split, KFold\n",
    "from sklearn.metrics import mean_squared_error, r2_score\n",
    "\n",
    "DATASET_PATH = \"dataset/\"\n",
    "\n",
    "def load_song_data(dataset_path=DATASET_PATH, file=\"\"):\n",
    "    df = pd.read_csv(dataset_path + file, sep=\",\", header=None)\n",
    "    return df"
   ]
  },
  {
   "cell_type": "code",
   "execution_count": 2,
   "metadata": {},
   "outputs": [],
   "source": [
    "#songs é um DataFrame\n",
    "songs = load_song_data(file='year-prediction-msd-train.txt')"
   ]
  },
  {
   "cell_type": "code",
   "execution_count": 3,
   "metadata": {},
   "outputs": [
    {
     "data": {
      "text/plain": [
       "0     1.000000\n",
       "1     0.227233\n",
       "7     0.111172\n",
       "47    0.096468\n",
       "20    0.086189\n",
       "73    0.084049\n",
       "74    0.082245\n",
       "68    0.081562\n",
       "14    0.077826\n",
       "53    0.073889\n",
       "38    0.073764\n",
       "29    0.073483\n",
       "39    0.070597\n",
       "25    0.064881\n",
       "85    0.060670\n",
       "22    0.048426\n",
       "70    0.047188\n",
       "23    0.044947\n",
       "34    0.042380\n",
       "10    0.034973\n",
       "79    0.031883\n",
       "16    0.031521\n",
       "11    0.029576\n",
       "75    0.028776\n",
       "84    0.028462\n",
       "17    0.028055\n",
       "51    0.026662\n",
       "32    0.026136\n",
       "87    0.025494\n",
       "13    0.022796\n",
       "        ...   \n",
       "81   -0.039637\n",
       "37   -0.040936\n",
       "62   -0.042161\n",
       "35   -0.043406\n",
       "48   -0.047816\n",
       "54   -0.050772\n",
       "86   -0.053012\n",
       "66   -0.053313\n",
       "52   -0.053915\n",
       "90   -0.055896\n",
       "21   -0.058737\n",
       "24   -0.059435\n",
       "41   -0.061353\n",
       "50   -0.061713\n",
       "72   -0.066441\n",
       "60   -0.066959\n",
       "31   -0.073348\n",
       "78   -0.087076\n",
       "33   -0.091488\n",
       "59   -0.093444\n",
       "57   -0.095802\n",
       "12   -0.097264\n",
       "69   -0.098398\n",
       "46   -0.101452\n",
       "36   -0.101587\n",
       "67   -0.103275\n",
       "40   -0.124132\n",
       "63   -0.127138\n",
       "3    -0.138384\n",
       "6    -0.188788\n",
       "Name: 0, Length: 91, dtype: float64"
      ]
     },
     "execution_count": 3,
     "metadata": {},
     "output_type": "execute_result"
    }
   ],
   "source": [
    "#Correlation matrix\n",
    "corr_matrix=songs.corr()\n",
    "corr_matrix[0].sort_values(ascending=False)"
   ]
  },
  {
   "cell_type": "code",
   "execution_count": 4,
   "metadata": {},
   "outputs": [],
   "source": [
    "#we can see the first feature is the best correlated with the target\n",
    "songs_x = songs.iloc[:,1] #selecting the feature 1\n",
    "songs_y = songs.iloc[:,0]\n",
    "songs_y=songs_y.values.reshape(-1,1)\n",
    "songs_x=songs_x.values.reshape(-1,1)"
   ]
  },
  {
   "cell_type": "code",
   "execution_count": 5,
   "metadata": {},
   "outputs": [],
   "source": [
    "#Normalizing\n",
    "pipeline = Pipeline([\n",
    "    ('std_scaler', StandardScaler()),\n",
    "])\n",
    "songs_x_prepared = pipeline.fit_transform(songs_x)"
   ]
  },
  {
   "cell_type": "code",
   "execution_count": 6,
   "metadata": {},
   "outputs": [],
   "source": [
    "# Split the data using train_test_split\n",
    "songs_x_train, songs_x_test, songs_y_train, songs_y_test = train_test_split(songs_x_prepared, songs_y, test_size=0.045, random_state=0)"
   ]
  },
  {
   "cell_type": "code",
   "execution_count": 7,
   "metadata": {},
   "outputs": [
    {
     "data": {
      "text/plain": [
       "LinearRegression(copy_X=True, fit_intercept=True, n_jobs=3, normalize=False)"
      ]
     },
     "execution_count": 7,
     "metadata": {},
     "output_type": "execute_result"
    }
   ],
   "source": [
    "#Train the model\n",
    "lin_reg = LinearRegression(n_jobs=3)\n",
    "lin_reg.fit(songs_x_train, songs_y_train)\n"
   ]
  },
  {
   "cell_type": "code",
   "execution_count": 8,
   "metadata": {},
   "outputs": [
    {
     "data": {
      "text/plain": [
       "10.703033056977185"
      ]
     },
     "execution_count": 8,
     "metadata": {},
     "output_type": "execute_result"
    }
   ],
   "source": [
    "#Predict and compute error\n",
    "songs_pred = lin_reg.predict(songs_x_test)\n",
    "songs_pred=songs_pred.round()\n",
    "lin_mse = mean_squared_error(songs_y_test, songs_pred)\n",
    "lin_rmse = np.sqrt(lin_mse)\n",
    "lin_rmse"
   ]
  },
  {
   "cell_type": "code",
   "execution_count": 9,
   "metadata": {},
   "outputs": [
    {
     "data": {
      "text/plain": [
       "10.655822561085744"
      ]
     },
     "execution_count": 9,
     "metadata": {},
     "output_type": "execute_result"
    }
   ],
   "source": [
    "#Error in train set\n",
    "#Ensure there is no overfitting. Train error is similar to test error, and it is no close to 0.\n",
    "songs_train_pred = lin_reg.predict(songs_x_train)\n",
    "songs_train_pred=songs_train_pred.round()\n",
    "lin_train_mse = mean_squared_error(songs_y_train, songs_train_pred)\n",
    "lin_train_rmse=np.sqrt(lin_train_mse)\n",
    "lin_train_rmse"
   ]
  },
  {
   "cell_type": "markdown",
   "metadata": {},
   "source": [
    "# Executing the model in test set "
   ]
  },
  {
   "cell_type": "code",
   "execution_count": 10,
   "metadata": {},
   "outputs": [
    {
     "data": {
      "text/plain": [
       "10.657730168600617"
      ]
     },
     "execution_count": 10,
     "metadata": {},
     "output_type": "execute_result"
    }
   ],
   "source": [
    "test = load_song_data(file='year-prediction-msd-test.txt')\n",
    "\n",
    "test_x = test.iloc[:,1] #selecting the feature 1\n",
    "test_y = test.iloc[:,0]\n",
    "test_y=test_y.values.reshape(-1,1)\n",
    "test_x=test_x.values.reshape(-1,1)\n",
    "\n",
    "test_x_prepared = pipeline.fit_transform(test_x) #normalizy x\n",
    "\n",
    "#Execute model and compute error\n",
    "test_pred = lin_reg.predict(test_x_prepared)\n",
    "test_pred=test_pred.round()\n",
    "test_mse = mean_squared_error(test_y, test_pred)\n",
    "test_rmse = np.sqrt(test_mse)\n",
    "test_rmse"
   ]
  },
  {
   "cell_type": "code",
   "execution_count": null,
   "metadata": {
    "collapsed": true
   },
   "outputs": [],
   "source": []
  }
 ],
 "metadata": {
  "kernelspec": {
   "display_name": "Python 3",
   "language": "python",
   "name": "python3"
  },
  "language_info": {
   "codemirror_mode": {
    "name": "ipython",
    "version": 3
   },
   "file_extension": ".py",
   "mimetype": "text/x-python",
   "name": "python",
   "nbconvert_exporter": "python",
   "pygments_lexer": "ipython3",
   "version": "3.5.2"
  }
 },
 "nbformat": 4,
 "nbformat_minor": 2
}
