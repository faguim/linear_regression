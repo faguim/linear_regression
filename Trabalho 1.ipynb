{
 "cells": [
  {
   "cell_type": "code",
   "execution_count": 3,
   "metadata": {
    "collapsed": true
   },
   "outputs": [],
   "source": [
    "import pandas as pd\n",
    "%matplotlib inline\n",
    "import matplotlib.pyplot as plt\n",
    "from sklearn.linear_model import LinearRegression\n",
    "import numpy as np\n",
    "from sklearn import datasets, linear_model\n",
    "from sklearn import preprocessing\n",
    "from sklearn.model_selection import train_test_split\n",
    "from sklearn.metrics import mean_squared_error\n",
    "from sklearn.pipeline import Pipeline\n",
    "from sklearn.preprocessing import StandardScaler\n",
    "\n",
    "DATASET_PATH = \"datasets/\"\n",
    "\n",
    "def load_song_data(dataset_path=DATASET_PATH):\n",
    "    df = pd.read_csv(dataset_path + 'year-prediction-msd-train.txt', sep=\",\", header=None)\n",
    "    return df\n",
    "\n"
   ]
  },
  {
   "cell_type": "code",
   "execution_count": 4,
   "metadata": {
    "collapsed": true
   },
   "outputs": [],
   "source": [
    "#songs é um DataFrame\n",
    "songs = load_song_data()"
   ]
  },
  {
   "cell_type": "code",
   "execution_count": 5,
   "metadata": {
    "collapsed": true
   },
   "outputs": [],
   "source": [
    "#songs[0], song_prepared[:,0]"
   ]
  },
  {
   "cell_type": "code",
   "execution_count": 6,
   "metadata": {
    "collapsed": true,
    "scrolled": true
   },
   "outputs": [],
   "source": [
    "#songs.hist(bins=100, figsize=(40,35))\n",
    "#plt.show()\n"
   ]
  },
  {
   "cell_type": "code",
   "execution_count": 7,
   "metadata": {
    "collapsed": true
   },
   "outputs": [],
   "source": [
    "songs_x = songs.iloc[:,1:]\n",
    "songs_y = songs.iloc[:,0]\n",
    "#songs_x = songs_x.values.reshape(-1,1)\n",
    "#songs_y = songs_y.values.reshape(-1,1)"
   ]
  },
  {
   "cell_type": "code",
   "execution_count": 8,
   "metadata": {
    "collapsed": true
   },
   "outputs": [],
   "source": [
    "#Normalizing\n",
    "num_pipeline = Pipeline([\n",
    "    ('std_scaler', StandardScaler()),\n",
    "])\n",
    "songs_x_prepared = num_pipeline.fit_transform(songs_x)"
   ]
  },
  {
   "cell_type": "code",
   "execution_count": 9,
   "metadata": {
    "collapsed": true
   },
   "outputs": [],
   "source": [
    "#songs_y"
   ]
  },
  {
   "cell_type": "code",
   "execution_count": 10,
   "metadata": {
    "collapsed": true
   },
   "outputs": [],
   "source": [
    "#songs_x_strat = np.ceil(songs_x / 1.5)\n",
    "#songs_x_strat.where(songs_x_strat[\"income_cat\"] < 5, 5.0, inplace=True)\n",
    "\n",
    "#songs_x_strat.shape, songs_x[:,0].shape\n"
   ]
  },
  {
   "cell_type": "code",
   "execution_count": 18,
   "metadata": {
    "collapsed": true
   },
   "outputs": [],
   "source": [
    "corr_matrix = songs.corr()\n",
    "#corr_matrix[0].sort_values(ascending=False)"
   ]
  },
  {
   "cell_type": "code",
   "execution_count": 12,
   "metadata": {
    "collapsed": true
   },
   "outputs": [],
   "source": [
    "# Split the data using train_test_split\n",
    "# Pegando os primeiros 20868 exemplos pra teste\n",
    "songs_x_train, songs_x_test, songs_y_train, songs_y_test = train_test_split(songs_x, songs_y, test_size=0.045, random_state=0)\n",
    "\n",
    "#songs_x_train.shape, songs_x_test.shape, songs_y_train.shape, songs_y_test.shape\n"
   ]
  },
  {
   "cell_type": "code",
   "execution_count": 14,
   "metadata": {
    "collapsed": true
   },
   "outputs": [],
   "source": [
    "# Plot train\n",
    "#plt.scatter(songs_x_train[1], songs_y_train,  color='pink')\n",
    "#plt.scatter(songs_x_test[1], songs_y_test,  color='blue')\n",
    "\n",
    "#plt.show()"
   ]
  },
  {
   "cell_type": "code",
   "execution_count": 15,
   "metadata": {},
   "outputs": [
    {
     "data": {
      "text/plain": [
       "LinearRegression(copy_X=True, fit_intercept=True, n_jobs=1, normalize=False)"
      ]
     },
     "execution_count": 15,
     "metadata": {},
     "output_type": "execute_result"
    }
   ],
   "source": [
    "# Train the model using the training sets\n",
    "regr = linear_model.LinearRegression()\n",
    "regr.fit(songs_x_train, songs_y_train)"
   ]
  },
  {
   "cell_type": "code",
   "execution_count": 16,
   "metadata": {
    "collapsed": true
   },
   "outputs": [],
   "source": [
    "# Make predictions using the testing set\n",
    "songs_y_pred = regr.predict(songs_x_test)"
   ]
  },
  {
   "cell_type": "code",
   "execution_count": 17,
   "metadata": {},
   "outputs": [
    {
     "name": "stdout",
     "output_type": "stream",
     "text": [
      "Estimated intercept:  1951.05646813\n",
      "Coefficients:  [  8.75287709e-01  -5.57709519e-02  -4.36934389e-02   3.26303855e-03\n",
      "  -1.48517658e-02  -2.20451407e-01  -5.50215872e-03  -1.03290703e-01\n",
      "  -6.79727099e-02   2.27469013e-02  -1.62826033e-01  -1.70165603e-03\n",
      "   4.72439826e-02   3.54837863e-04  -4.31091956e-04   6.11239500e-04\n",
      "   4.50454172e-04   1.44029198e-03   1.97047125e-03   2.25409320e-03\n",
      "   7.11500461e-04  -6.77483325e-04   7.68738023e-03   2.75643301e-03\n",
      "  -3.63382126e-03   3.84103058e-05   1.59325841e-03   4.89972174e-04\n",
      "   9.64669764e-04  -2.23312326e-04  -1.16886594e-03  -1.41378042e-03\n",
      "  -5.53834951e-03   2.56855085e-03   1.71895833e-03  -5.18867814e-03\n",
      "  -2.46750195e-04   6.53729940e-04   1.40897562e-03  -1.70524341e-03\n",
      "  -2.08209659e-03  -8.64276533e-04  -1.63776554e-03  -2.35118402e-03\n",
      "  -3.20356380e-03   6.64930068e-03   4.77953096e-04  -2.03430415e-03\n",
      "   3.32550167e-04   2.05129782e-03  -9.94900836e-05  -1.77536185e-03\n",
      "   1.88521608e-03   1.52605563e-04  -3.12775156e-04   1.47293223e-04\n",
      "  -1.89929138e-03   1.87574389e-03  -1.22866790e-03   3.05401031e-04\n",
      "  -2.86603152e-03  -1.77066827e-03  -7.67210688e-03   1.15910799e-03\n",
      "  -2.05665445e-03   7.48764120e-04  -1.52701625e-04  -4.67476977e-04\n",
      "  -4.24236050e-03  -4.82617210e-03  -1.02398702e-03   3.53072975e-04\n",
      "   7.59404390e-04   4.22466501e-03   2.91531296e-03   1.49966520e-02\n",
      "   2.16287702e-04  -4.49889289e-03   9.55978212e-07  -1.53851367e-04\n",
      "  -7.23492430e-04  -6.10881756e-04   1.34517262e-03   1.03748640e-03\n",
      "   2.72549614e-02   7.33001088e-05   1.16081758e-03  -3.10686031e-02\n",
      "  -1.30564174e-03  -1.07895115e-03]\n",
      "Mean squared error: 92.04\n"
     ]
    }
   ],
   "source": [
    "# The coefficients\n",
    "print('Estimated intercept: ', regr.intercept_)\n",
    "\n",
    "# The coefficients\n",
    "print('Coefficients: ', regr.coef_)\n",
    "\n",
    "# The mean squared error\n",
    "print(\"Mean squared error: %.2f\"\n",
    "      % mean_squared_error(songs_y_test, songs_y_pred))"
   ]
  },
  {
   "cell_type": "code",
   "execution_count": 20,
   "metadata": {},
   "outputs": [
    {
     "data": {
      "text/plain": [
       "array([ 2000.42536497,  1987.53238834,  1997.75959177, ...,  1996.20021721,\n",
       "        2008.86330742,  2000.85014345])"
      ]
     },
     "execution_count": 20,
     "metadata": {},
     "output_type": "execute_result"
    }
   ],
   "source": [
    "songs_y_pred"
   ]
  },
  {
   "cell_type": "code",
   "execution_count": null,
   "metadata": {
    "collapsed": true
   },
   "outputs": [],
   "source": [
    "# Plot outputs\n",
    "plt.scatter(songs_x_train[1], songs_y_train,  color='pink')\n",
    "plt.scatter(songs_x_test[1], songs_y_test,  color='blue')\n",
    "plt.plot(songs_x_test[1], songs_y_pred, color='black', linewidth=3)\n",
    "\n",
    "plt.show()\n"
   ]
  },
  {
   "cell_type": "code",
   "execution_count": null,
   "metadata": {
    "collapsed": true
   },
   "outputs": [],
   "source": []
  }
 ],
 "metadata": {
  "kernelspec": {
   "display_name": "Python 3",
   "language": "python",
   "name": "python3"
  },
  "language_info": {
   "codemirror_mode": {
    "name": "ipython",
    "version": 3
   },
   "file_extension": ".py",
   "mimetype": "text/x-python",
   "name": "python",
   "nbconvert_exporter": "python",
   "pygments_lexer": "ipython3",
   "version": "3.6.1"
  },
  "toc": {
   "colors": {
    "hover_highlight": "#DAA520",
    "navigate_num": "#000000",
    "navigate_text": "#333333",
    "running_highlight": "#FF0000",
    "selected_highlight": "#FFD700",
    "sidebar_border": "#EEEEEE",
    "wrapper_background": "#FFFFFF"
   },
   "moveMenuLeft": true,
   "nav_menu": {
    "height": "12px",
    "width": "252px"
   },
   "navigate_menu": true,
   "number_sections": true,
   "sideBar": true,
   "threshold": 4,
   "toc_cell": false,
   "toc_section_display": "block",
   "toc_window_display": false,
   "widenNotebook": false
  }
 },
 "nbformat": 4,
 "nbformat_minor": 2
}
