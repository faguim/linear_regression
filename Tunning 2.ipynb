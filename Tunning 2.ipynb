{
 "cells": [
  {
   "cell_type": "code",
   "execution_count": 1,
   "metadata": {
    "collapsed": true
   },
   "outputs": [],
   "source": [
    "import pandas as pd\n",
    "%matplotlib inline\n",
    "import matplotlib.pyplot as plt\n",
    "import numpy as np\n",
    "from sklearn.linear_model import LinearRegression, LassoCV, Ridge, Lasso, ElasticNet, Lars, SGDRegressor, PassiveAggressiveRegressor, Perceptron\n",
    "from sklearn import datasets, linear_model\n",
    "from sklearn.model_selection import train_test_split, KFold, StratifiedShuffleSplit, GridSearchCV\n",
    "from sklearn.metrics import mean_squared_error, r2_score\n",
    "from sklearn.pipeline import Pipeline, make_pipeline\n",
    "from sklearn.preprocessing import StandardScaler, PolynomialFeatures\n",
    "from sklearn.feature_selection import SelectPercentile, f_regression, SelectKBest, mutual_info_regression, RFE, SelectFromModel\n",
    "from sklearn.tree import DecisionTreeRegressor\n",
    "from sklearn.ensemble import ExtraTreesClassifier\n",
    "\n",
    "DATASET_PATH = \"dataset/\"\n",
    "\n",
    "def load_song_data(dataset_path=DATASET_PATH):\n",
    "    df = pd.read_csv(dataset_path + 'year-prediction-msd-train.txt', sep=\",\", header=None)\n",
    "    return df"
   ]
  },
  {
   "cell_type": "code",
   "execution_count": 2,
   "metadata": {
    "collapsed": true
   },
   "outputs": [],
   "source": [
    "def iter_minibatches(chunksize, x_train, y_train):\n",
    "    chunkstartmarker = 0\n",
    "    while chunkstartmarker < len(x_train):\n",
    "        x_chunk = x_train[chunkstartmarker:chunkstartmarker+chunksize]\n",
    "        y_chunk = y_train[chunkstartmarker:chunkstartmarker+chunksize]\n",
    "        yield x_chunk, y_chunk\n",
    "        chunkstartmarker += chunksize"
   ]
  },
  {
   "cell_type": "code",
   "execution_count": 3,
   "metadata": {
    "collapsed": true
   },
   "outputs": [],
   "source": [
    "def training (chunksize, x_train, y_train, regr):\n",
    "    batcherator = iter_minibatches(chunksize=chunksize, x_train=x_train, y_train=y_train)\n",
    "    \n",
    "    for x_chunk, y_chunk in batcherator:\n",
    "        if(len(x_chunk)!=0):\n",
    "            regr.named_steps['regr'].partial_fit(x_chunk, y_chunk)\n",
    "    return regr"
   ]
  },
  {
   "cell_type": "code",
   "execution_count": 4,
   "metadata": {
    "collapsed": true
   },
   "outputs": [],
   "source": [
    "def pretty_print_linear(coefs, names = None, sort = False):\n",
    "    if names == None:\n",
    "        names = [\"X%s\" % x for x in range(len(coefs))]\n",
    "    lst = zip(coefs, names)\n",
    "    if sort:\n",
    "        lst = sorted(lst,  key = lambda x:-np.abs(x[0]))\n",
    "    return \" + \".join(\"%s*%s\" % (round(coef, 3), name)\n",
    "                                   for coef, name in lst)"
   ]
  },
  {
   "cell_type": "code",
   "execution_count": 5,
   "metadata": {
    "collapsed": true
   },
   "outputs": [],
   "source": [
    "#songs é um DataFrame\n",
    "songs = load_song_data()"
   ]
  },
  {
   "cell_type": "code",
   "execution_count": 6,
   "metadata": {
    "collapsed": true
   },
   "outputs": [],
   "source": [
    "songs_x = songs.iloc[:,1:]\n",
    "songs_y = songs.iloc[:,0]"
   ]
  },
  {
   "cell_type": "code",
   "execution_count": 7,
   "metadata": {
    "collapsed": true
   },
   "outputs": [],
   "source": [
    "num_pipeline = Pipeline([\n",
    "    ('std_scaler', StandardScaler()),\n",
    "    ('skb', SelectKBest(f_regression, k=90)),#Fazer um gráfico variando mean-squared-error | k. Ate agora 80 é o melhor\n",
    "    #('rfe',RFE(Ridge(), n_features_to_select=30)),\n",
    "    #('lasso', RandomizedLasso(alpha=1)),\n",
    "    #('sfm', SelectFromModel(LassoCV(), threshold='1.25*mean')),\n",
    "    #('etc', ExtraTreesClassifier())\n",
    "])\n",
    "songs_x = num_pipeline.fit_transform(songs_x, songs_y.ravel())"
   ]
  },
  {
   "cell_type": "markdown",
   "metadata": {},
   "source": [
    "## Prepare the regretion model"
   ]
  },
  {
   "cell_type": "code",
   "execution_count": 8,
   "metadata": {},
   "outputs": [
    {
     "name": "stdout",
     "output_type": "stream",
     "text": [
      "n_input_features_:  90\n",
      "n_output_features_: 91\n"
     ]
    }
   ],
   "source": [
    "regr = Pipeline([\n",
    "            (\"features\", PolynomialFeatures(degree=1)),\n",
    "#            (\"regr\", SGDRegressor()),\n",
    "            (\"regr\", LinearRegression())\n",
    "         ])\n",
    "#penalty='l1', loss='squared_epsilon_insensitive', learning_rate='invscaling', l1_ratio=0.75, eta0=0.001, epsilon=1e-09, alpha=1e-06\n",
    "\n",
    "#regr = make_pipeline(PolynomialFeatures(1), Ridge(alpha=1e-6, fit_intercept=True, max_iter=1e9, solver='auto', tol=1e-6))\n",
    "#Lasso é complexo, se der tempo tento olhar ele melhor\n",
    "#regr = make_pipeline(PolynomialFeatures(1), Lasso(alpha=1e-6, fit_intercept=True, max_iter=1e3, tol=1e-9, positive=False, selection='random', warm_start=True))\n",
    "#regr = make_pipeline(PolynomialFeatures(1), ElasticNet(alpha=1e-6, l1_ratio=0.75, fit_intercept=True, max_iter=1e6, tol=.1, positive=False, selection='cyclic', warm_start=False, precompute= True))\n",
    "#regr = make_pipeline(PolynomialFeatures(1), SGDRegressor(verbose=True,fit_intercept=True, power_t=0.5, penalty='l1', loss='squared_loss', learning_rate='constant', l1_ratio=0.75, eta0=0.001, epsilon=0.1, alpha= 0.001))\n",
    "#regr = make_pipeline(PolynomialFeatures(1), PassiveAggressiveRegressor(verbose=True,fit_intercept=True, loss='squared_epsilon_insensitive', epsilon=0.001, C=0.001))\n",
    "\n",
    "X_ = regr.named_steps[\"features\"].fit_transform(songs_x)\n",
    "print(\"n_input_features_: \", regr.named_steps['features'].n_input_features_)\n",
    "print(\"n_output_features_:\", regr.named_steps[\"features\"].n_output_features_)\n"
   ]
  },
  {
   "cell_type": "markdown",
   "metadata": {},
   "source": [
    "## Strategy to slipt train and test sets\n",
    "## Categorize and splits ramdom representative sets (StratifiedShuffleSplit)\n",
    "Similar percentage of data in each category"
   ]
  },
  {
   "cell_type": "code",
   "execution_count": 9,
   "metadata": {
    "collapsed": true
   },
   "outputs": [],
   "source": [
    "#Generates 5 categories of year (size: 18 years)\n",
    "n_cat=5\n",
    "size=(np.max(songs_y)-np.min(songs_y)+1)/(n_cat) #+1 avoid category 0.0 -> otherwise  would be made only by min values\n",
    "songs[\"year_cat\"] = np.ceil((songs_y-np.min(songs_y)+1) / size) "
   ]
  },
  {
   "cell_type": "code",
   "execution_count": 10,
   "metadata": {},
   "outputs": [
    {
     "name": "stdout",
     "output_type": "stream",
     "text": [
      "5.0    0.770044\n",
      "4.0    0.172138\n",
      "3.0    0.052429\n",
      "2.0    0.004434\n",
      "1.0    0.000955\n",
      "Name: year_cat, dtype: float64\n"
     ]
    }
   ],
   "source": [
    "#Distribution of data in categories\n",
    "dist=songs[\"year_cat\"].value_counts()/len(songs)\n",
    "print(dist)"
   ]
  },
  {
   "cell_type": "code",
   "execution_count": 11,
   "metadata": {},
   "outputs": [
    {
     "data": {
      "text/plain": [
       "<matplotlib.legend.Legend at 0x7f5c90ac0358>"
      ]
     },
     "execution_count": 11,
     "metadata": {},
     "output_type": "execute_result"
    },
    {
     "data": {
      "image/png": "[encoded data removed]",
      "text/plain": [
       "<matplotlib.figure.Figure at 0x7f5c90ac0400>"
      ]
     },
     "metadata": {},
     "output_type": "display_data"
    }
   ],
   "source": [
    "labels=[\"5 (1922-1939) - 77.0%\", \"4 (1940-1957) - 17.2%\", \"3 (1957-1974) - 5.2%\", \"2 (1975-1992) - 0.4%\", \"1 (1993-2011) - 0.1%\"]\n",
    "#labels = range (1,6)\n",
    "sizes = dist\n",
    "colors = ['lightskyblue', 'yellowgreen', 'lightcoral', 'gold', 'orange']\n",
    "explode = (0.1, 0, 0, 0, 0)  # explode 1st slice\n",
    "\n",
    "plt.pie(sizes, explode=explode, colors=colors, labels=None,\n",
    "        autopct='%1.1f%%', shadow=True, startangle=140)\n",
    "plt.legend(loc='lower left', labels=labels)"
   ]
  },
  {
   "cell_type": "code",
   "execution_count": 14,
   "metadata": {},
   "outputs": [],
   "source": [
    "n_splits=10\n",
    "split = StratifiedShuffleSplit(n_splits=n_splits, test_size=0.1, random_state=1)\n",
    "rmse_scores = list()\n",
    "r2_scores = list()\n",
    "\n",
    "#sum of scores for each category -> the goal is to calculate mean error by category\n",
    "sum_rmse_cat=[]\n",
    "for i in range(0, n_cat):\n",
    "    sum_rmse_cat.append(0)\n",
    "    \n",
    "#Representative test sets (equal percentage of data in each category)\n",
    "for train_index, test_index in split.split(X_, songs[\"year_cat\"]):\n",
    "    strat_songs_x_train, strat_songs_x_test = X_[train_index], X_[test_index]\n",
    "    strat_songs_y_train, strat_songs_y_test = songs_y[train_index], songs_y[test_index]\n",
    "    \n",
    "    #Train and execute the model\n",
    "    regr.named_steps['regr'].fit(strat_songs_x_train, strat_songs_y_train)\n",
    "    songs_y_pred = regr.named_steps['regr'].predict(strat_songs_x_test)\n",
    "    songs_y_pred = songs_y_pred.round()\n",
    "\n",
    "    #compute scores\n",
    "    rmse_scores.append(np.sqrt(mean_squared_error(strat_songs_y_test, songs_y_pred)))\n",
    "    r2_scores.append(r2_score(strat_songs_y_test, songs_y_pred))\n",
    "\n",
    "    #compute score by category\n",
    "    re_songs_y_test=strat_songs_y_test.values.reshape(-1,1)\n",
    "    for i in range(1, n_cat+1):\n",
    "        if (i==1):\n",
    "            index=np.where(np.ceil((strat_songs_y_test-np.min(songs_y)) / size)<=i) #avoid category 1\n",
    "        else:\n",
    "            index=np.where(np.ceil((strat_songs_y_test-np.min(songs_y)) / size)==i)\n",
    "        y_test=re_songs_y_test[index]\n",
    "        y_pred=songs_y_pred[index]\n",
    "        sum_rmse_cat[i-1]=sum_rmse_cat[i-1]+np.sqrt(mean_squared_error(y_test, y_pred))"
   ]
  },
  {
   "cell_type": "code",
   "execution_count": 15,
   "metadata": {
    "collapsed": true
   },
   "outputs": [],
   "source": [
    "def display_scores(scores):\n",
    "    print(\"Mean:\", sum(scores)/float(len(scores)))"
   ]
  },
  {
   "cell_type": "code",
   "execution_count": 16,
   "metadata": {},
   "outputs": [
    {
     "name": "stdout",
     "output_type": "stream",
     "text": [
      "Mean: 9.55886292248\n",
      "Mean: 0.236419364007\n"
     ]
    }
   ],
   "source": [
    "display_scores(rmse_scores)\n",
    "display_scores(r2_scores)"
   ]
  },
  {
   "cell_type": "code",
   "execution_count": 17,
   "metadata": {},
   "outputs": [
    {
     "name": "stdout",
     "output_type": "stream",
     "text": [
      "RMSE scores by category\n",
      "Category  1 = 56.9210333288\n",
      "Category  2 = 37.5289704845\n",
      "Category  3 = 24.3735910803\n",
      "Category  4 = 9.07221038821\n",
      "Category  5 = 6.50893302638\n"
     ]
    }
   ],
   "source": [
    "print(\"RMSE scores by category\")\n",
    "for i in range (0, n_cat):\n",
    "    print(\"Category \", i+1, \"=\", sum_rmse_cat[i]/n_splits)"
   ]
  },
  {
   "cell_type": "code",
   "execution_count": 18,
   "metadata": {},
   "outputs": [
    {
     "data": {
      "text/plain": [
       "array([ 0.00094885,  0.00444234,  0.05242388,  0.17212973,  0.77005521])"
      ]
     },
     "execution_count": 18,
     "metadata": {},
     "output_type": "execute_result"
    }
   ],
   "source": [
    "#Checking if the test set has same distribution in categories compared to the entire dataset (songs)\n",
    "strat_songs_x_test=np.insert(strat_songs_x_test, 0, np.ceil((strat_songs_y_test-np.min(songs_y)+1) / size), axis=1)\n",
    "cat, count = np.unique(strat_songs_x_test[:,0], return_counts=True)\n",
    "count/len(strat_songs_x_test)"
   ]
  },
  {
   "cell_type": "code",
   "execution_count": 19,
   "metadata": {
    "scrolled": true
   },
   "outputs": [
    {
     "name": "stdout",
     "output_type": "stream",
     "text": [
      "[6.508933026379947, 9.0722103882125484, 24.373591080300184, 37.528970484466484, 56.921033328789733]\n"
     ]
    },
    {
     "data": {
      "text/plain": [
       "<Container object of 5 artists>"
      ]
     },
     "execution_count": 19,
     "metadata": {},
     "output_type": "execute_result"
    },
    {
     "data": {
      "image/png": "[encoded data removed]",
      "text/plain": [
       "<matplotlib.figure.Figure at 0x7f5c8e90f4e0>"
      ]
     },
     "metadata": {},
     "output_type": "display_data"
    }
   ],
   "source": [
    "#Plot graph error by category\n",
    "mean=[0,0,0,0,0]\n",
    "cont=0\n",
    "for i in range (n_cat-1, -1, -1):\n",
    "    mean[i]=sum_rmse_cat[cont]/n_splits\n",
    "    cont=cont+1\n",
    "print(mean);\n",
    "    \n",
    "plt.ylabel(\"RMSE Error\", fontsize=14, )\n",
    "plt.xlabel(\"Categories of year\", fontsize=14, )\n",
    "plt.xticks(range(1,n_cat+1), ['5\\n1993-2011', '4\\n1975-1992', '3\\n1957-1974', '2\\n1940-1957','1\\n1922-1939'])\n",
    "plt.yticks(range(0,60,5))\n",
    "plt.bar(range(1,n_cat+1), mean, color=\"blue\")"
   ]
  },
  {
   "cell_type": "markdown",
   "metadata": {},
   "source": [
    "## Cross validation - Kfold strategy"
   ]
  },
  {
   "cell_type": "code",
   "execution_count": 20,
   "metadata": {
    "collapsed": true
   },
   "outputs": [],
   "source": [
    "n_splits=10\n",
    "kf = KFold(n_splits=n_splits, shuffle=True, random_state=1) #define n groups\n",
    "rmse_scores = list()\n",
    "r2_scores = list()\n",
    "\n",
    "#for each par (train,test) in slip -> train, test and compute error\n",
    "#inwhich train has k-1 groups test 1 group\n",
    "for train_index, test_index in kf.split(X_):    \n",
    "    songs_x_train, songs_x_test = X_[train_index], X_[test_index]\n",
    "    songs_y_train, songs_y_test = songs_y[train_index], songs_y[test_index]\n",
    " \n",
    "    #train and execute the model\n",
    "    #regr=training(1000, songs_x_train, songs_y_train, regr)\n",
    "    regr.named_steps['regr'].fit(songs_x_train, songs_y_train)\n",
    "    #songs_y_pred = regr.predict(songs_x_test)\n",
    "    songs_y_pred = regr.named_steps['regr'].predict(songs_x_test)\n",
    "    songs_y_pred = songs_y_pred.round()\n",
    "\n",
    "    \n",
    "    #compute scores\n",
    "    rmse_scores.append(np.sqrt(mean_squared_error(songs_y_test, songs_y_pred)))\n",
    "    r2_scores.append(r2_score(songs_y_test, songs_y_pred))"
   ]
  },
  {
   "cell_type": "code",
   "execution_count": 21,
   "metadata": {},
   "outputs": [
    {
     "name": "stdout",
     "output_type": "stream",
     "text": [
      "Mean: 9.56003281543\n",
      "Mean: 0.236302583797\n"
     ]
    }
   ],
   "source": [
    "display_scores(rmse_scores)\n",
    "display_scores(r2_scores)"
   ]
  },
  {
   "cell_type": "code",
   "execution_count": 22,
   "metadata": {},
   "outputs": [
    {
     "name": "stdout",
     "output_type": "stream",
     "text": [
      "Features:  91\n",
      "91 Coenficientes:  [  5.36787761e-19   5.32433258e+00  -2.89562103e+00  -1.53881749e+00\n",
      "   8.41155673e-02  -3.53125815e-01  -2.84695581e+00  -1.11199996e-01\n",
      "  -8.36405242e-01  -7.30448388e-01   1.66530853e-01  -7.21582831e-01\n",
      "  -1.57117860e-02   1.05827688e+00   6.20469575e-01  -5.46019508e-01\n",
      "   6.82052272e-01   1.99944520e-01   8.34380929e-01   6.15399105e-01\n",
      "   6.79659239e-01   1.57418004e-01  -9.45257774e-02   1.42842905e+00\n",
      "   4.18471022e-01  -4.35707871e-01   2.85053229e-02   8.72939568e-01\n",
      "   1.08746265e-01   1.35669748e-01  -5.59236062e-02  -1.21944362e-01\n",
      "  -1.07091145e-01  -4.20877028e-01   1.25742949e-01   5.85594533e-02\n",
      "  -5.62731338e-01  -1.16560410e-01   3.04986828e-01   3.59811591e-01\n",
      "  -3.59641300e-01  -2.46205784e-01  -1.03177925e-01  -1.07392737e-01\n",
      "  -8.36043674e-02  -1.40397912e-01   3.67790747e-01   2.29970481e-01\n",
      "  -5.45382873e-01   7.03124279e-02   2.50447330e-01  -1.17722613e-02\n",
      "  -1.35946867e-01   1.30675501e-01  -6.27826402e-04  -2.06778784e-02\n",
      "   5.14236144e-02  -5.79458102e-01   5.07096563e-01  -2.01973816e-01\n",
      "   3.72476358e-02  -1.57198385e-01  -8.98451024e-02  -2.95013128e-01\n",
      "   3.62069480e-01  -4.64687220e-01   1.05606042e-01  -2.52139196e-02\n",
      "  -5.49798867e-02  -4.62802972e-01  -1.91587820e-01  -2.61973590e-01\n",
      "   7.24322225e-02   1.10372969e-01   2.56087593e-01   1.86872699e-01\n",
      "   4.00243338e-01   6.14869713e-02  -6.43149496e-01   3.56508457e-03\n",
      "  -1.17358753e-02  -2.57988236e-02  -1.06943802e-01   1.77597540e-01\n",
      "   9.90797497e-02   4.52001128e-01   1.65400644e-02   2.08559837e-01\n",
      "  -4.17202721e-01  -2.44666949e-01  -2.86937200e-02]\n",
      "Estimated intercept:  1998.37803103\n",
      "Linear model: 0.0*1 + 5.324*x0 + -2.896*x1 + -1.539*x2 + 0.084*x3 + -0.353*x4 + -2.847*x5 + -0.111*x6 + -0.836*x7 + -0.73*x8 + 0.167*x9 + -0.722*x10 + -0.016*x11 + 1.058*x12 + 0.62*x13 + -0.546*x14 + 0.682*x15 + 0.2*x16 + 0.834*x17 + 0.615*x18 + 0.68*x19 + 0.157*x20 + -0.095*x21 + 1.428*x22 + 0.418*x23 + -0.436*x24 + 0.029*x25 + 0.873*x26 + 0.109*x27 + 0.136*x28 + -0.056*x29 + -0.122*x30 + -0.107*x31 + -0.421*x32 + 0.126*x33 + 0.059*x34 + -0.563*x35 + -0.117*x36 + 0.305*x37 + 0.36*x38 + -0.36*x39 + -0.246*x40 + -0.103*x41 + -0.107*x42 + -0.084*x43 + -0.14*x44 + 0.368*x45 + 0.23*x46 + -0.545*x47 + 0.07*x48 + 0.25*x49 + -0.012*x50 + -0.136*x51 + 0.131*x52 + -0.001*x53 + -0.021*x54 + 0.051*x55 + -0.579*x56 + 0.507*x57 + -0.202*x58 + 0.037*x59 + -0.157*x60 + -0.09*x61 + -0.295*x62 + 0.362*x63 + -0.465*x64 + 0.106*x65 + -0.025*x66 + -0.055*x67 + -0.463*x68 + -0.192*x69 + -0.262*x70 + 0.072*x71 + 0.11*x72 + 0.256*x73 + 0.187*x74 + 0.4*x75 + 0.061*x76 + -0.643*x77 + 0.004*x78 + -0.012*x79 + -0.026*x80 + -0.107*x81 + 0.178*x82 + 0.099*x83 + 0.452*x84 + 0.017*x85 + 0.209*x86 + -0.417*x87 + -0.245*x88 + -0.029*x89\n",
      "Params:  {'normalize': False, 'n_jobs': 1, 'copy_X': True, 'fit_intercept': True}\n"
     ]
    }
   ],
   "source": [
    "print('Features: ', songs_x_train.shape[1])\n",
    "print(regr.named_steps['regr'].coef_.shape[0], 'Coenficientes: ', regr.named_steps['regr'].coef_)\n",
    "print('Estimated intercept: ', regr.named_steps['regr'].intercept_)\n",
    "\n",
    "print(\"Linear model:\", pretty_print_linear(regr.named_steps['regr'].coef_, regr.named_steps['features'].get_feature_names()))\n",
    "\n",
    "print('Params: ',regr.named_steps['regr'].get_params())"
   ]
  },
  {
   "cell_type": "code",
   "execution_count": null,
   "metadata": {
    "collapsed": true
   },
   "outputs": [],
   "source": []
  }
 ],
 "metadata": {
  "kernelspec": {
   "display_name": "Python 3",
   "language": "python",
   "name": "python3"
  },
  "language_info": {
   "codemirror_mode": {
    "name": "ipython",
    "version": 3
   },
   "file_extension": ".py",
   "mimetype": "text/x-python",
   "name": "python",
   "nbconvert_exporter": "python",
   "pygments_lexer": "ipython3",
   "version": "3.5.2"
  },
  "toc": {
   "colors": {
    "hover_highlight": "#DAA520",
    "navigate_num": "#000000",
    "navigate_text": "#333333",
    "running_highlight": "#FF0000",
    "selected_highlight": "#FFD700",
    "sidebar_border": "#EEEEEE",
    "wrapper_background": "#FFFFFF"
   },
   "moveMenuLeft": true,
   "nav_menu": {
    "height": "12px",
    "width": "252px"
   },
   "navigate_menu": true,
   "number_sections": true,
   "sideBar": true,
   "threshold": 4,
   "toc_cell": false,
   "toc_section_display": "block",
   "toc_window_display": false,
   "widenNotebook": false
  }
 },
 "nbformat": 4,
 "nbformat_minor": 2
}
