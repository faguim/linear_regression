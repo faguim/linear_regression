{
 "cells": [
  {
   "cell_type": "markdown",
   "metadata": {},
   "source": [
    "# Experiment 3\n",
    "## Test one strategy to select best k features\n",
    "Strategy: Train polinomial regression model using one feature at time, and select those preset minor error "
   ]
  },
  {
   "cell_type": "code",
   "execution_count": 1,
   "metadata": {
    "collapsed": true
   },
   "outputs": [],
   "source": [
    "import pandas as pd\n",
    "%matplotlib inline\n",
    "import matplotlib.pyplot as plt\n",
    "from sklearn.linear_model import LinearRegression\n",
    "import numpy as np\n",
    "from sklearn import datasets, linear_model\n",
    "from sklearn import preprocessing\n",
    "from sklearn.model_selection import train_test_split, KFold\n",
    "from sklearn.metrics import mean_squared_error, r2_score\n",
    "from sklearn.pipeline import Pipeline\n",
    "from sklearn.preprocessing import StandardScaler\n",
    "from sklearn.preprocessing import PolynomialFeatures\n",
    "from sklearn.linear_model import Ridge, SGDRegressor\n",
    "from sklearn.pipeline import make_pipeline\n",
    "\n",
    "DATASET_PATH = \"datasets/\"\n",
    "\n",
    "def load_song_data(dataset_path=DATASET_PATH):\n",
    "    df = pd.read_csv(dataset_path + 'year-prediction-msd-train.txt', sep=\",\", header=None)\n",
    "    return df"
   ]
  },
  {
   "cell_type": "code",
   "execution_count": 2,
   "metadata": {
    "collapsed": true
   },
   "outputs": [],
   "source": [
    "#songs é um DataFrame\n",
    "songs = load_song_data()"
   ]
  },
  {
   "cell_type": "code",
   "execution_count": 3,
   "metadata": {},
   "outputs": [
    {
     "data": {
      "text/plain": [
       "(463715,)"
      ]
     },
     "execution_count": 3,
     "metadata": {},
     "output_type": "execute_result"
    }
   ],
   "source": [
    "songs_x = songs.iloc[:,1:]\n",
    "songs_y = songs.iloc[:,0]\n",
    "songs_y.shape"
   ]
  },
  {
   "cell_type": "code",
   "execution_count": 4,
   "metadata": {
    "collapsed": true
   },
   "outputs": [],
   "source": [
    "#Normalizing\n",
    "num_pipeline = Pipeline([\n",
    "    ('std_scaler', StandardScaler()),\n",
    "])\n",
    "songs_x = num_pipeline.fit_transform(songs_x)"
   ]
  },
  {
   "cell_type": "code",
   "execution_count": 5,
   "metadata": {
    "collapsed": true
   },
   "outputs": [],
   "source": [
    "rmse_by_features=[]\n",
    "r2_by_features=[]\n",
    "\n",
    "#Cheking error for each feature\n",
    "for count in range (0,90):\n",
    "    songs_1x=songs_x[:,count]\n",
    "    rmse_scores = []\n",
    "    r2_scores = []\n",
    "\n",
    "    #Cross validation with 10-folds\n",
    "    kf = KFold(n_splits=10, shuffle=True, random_state=1)\n",
    "    for train_index, test_index in kf.split(songs_1x):\n",
    "        songs_x_train, songs_x_test = songs_1x[train_index], songs_1x[test_index]\n",
    "        songs_y_train, songs_y_test = songs_y[train_index], songs_y[test_index]\n",
    "        songs_x_train=songs_x_train.reshape(-1,1)\n",
    "        songs_x_test=songs_x_test.reshape(-1,1)\n",
    "\n",
    "        regr = make_pipeline(PolynomialFeatures(2), Ridge())\n",
    "        regr.named_steps['ridge'].fit(songs_x_train, songs_y_train)\n",
    "        songs_y_pred = regr.named_steps['ridge'].predict(songs_x_test)\n",
    "\n",
    "        songs_y_pred = songs_y_pred.round()\n",
    "        rmse_scores.append(np.sqrt(mean_squared_error(songs_y_test, songs_y_pred)))\n",
    "        r2_scores.append(r2_score(songs_y_test, songs_y_pred))\n",
    "\n",
    "    rmse_by_features.append(sum(rmse_scores)/float(len(rmse_scores)))"
   ]
  },
  {
   "cell_type": "code",
   "execution_count": 6,
   "metadata": {},
   "outputs": [
    {
     "data": {
      "text/plain": [
       "array([[ 10.65784939,   0.        ],\n",
       "       [ 10.9442769 ,   1.        ],\n",
       "       [ 10.83842537,   2.        ],\n",
       "       [ 10.94663406,   3.        ],\n",
       "       [ 10.94779836,   4.        ],\n",
       "       [ 10.74754234,   5.        ],\n",
       "       [ 10.875764  ,   6.        ],\n",
       "       [ 10.93768516,   7.        ],\n",
       "       [ 10.95208666,   8.        ],\n",
       "       [ 10.92762991,   9.        ],\n",
       "       [ 10.946434  ,  10.        ],\n",
       "       [ 10.89120364,  11.        ],\n",
       "       [ 10.93658179,  12.        ],\n",
       "       [ 10.91350639,  13.        ],\n",
       "       [ 10.93585557,  14.        ],\n",
       "       [ 10.93336873,  15.        ],\n",
       "       [ 10.93452073,  16.        ],\n",
       "       [ 10.93788097,  17.        ],\n",
       "       [ 10.94648232,  18.        ],\n",
       "       [ 10.90435649,  19.        ],\n",
       "       [ 10.92621513,  20.        ],\n",
       "       [ 10.9202161 ,  21.        ],\n",
       "       [ 10.9254422 ,  22.        ],\n",
       "       [ 10.92556737,  23.        ],\n",
       "       [ 10.91752442,  24.        ],\n",
       "       [ 10.93976646,  25.        ],\n",
       "       [ 10.94743451,  26.        ],\n",
       "       [ 10.93598591,  27.        ],\n",
       "       [ 10.91501248,  28.        ],\n",
       "       [ 10.94331794,  29.        ],\n",
       "       [ 10.90971508,  30.        ],\n",
       "       [ 10.93679376,  31.        ],\n",
       "       [ 10.89682055,  32.        ],\n",
       "       [ 10.93162289,  33.        ],\n",
       "       [ 10.93533599,  34.        ],\n",
       "       [ 10.88747262,  35.        ],\n",
       "       [ 10.92007541,  36.        ],\n",
       "       [ 10.91568697,  37.        ],\n",
       "       [ 10.91413519,  38.        ],\n",
       "       [ 10.85993026,  39.        ],\n",
       "       [ 10.91795128,  40.        ],\n",
       "       [ 10.94536191,  41.        ],\n",
       "       [ 10.94646268,  42.        ],\n",
       "       [ 10.94550657,  43.        ],\n",
       "       [ 10.94312916,  44.        ],\n",
       "       [ 10.88460251,  45.        ],\n",
       "       [ 10.89387348,  46.        ],\n",
       "       [ 10.92890406,  47.        ],\n",
       "       [ 10.93864065,  48.        ],\n",
       "       [ 10.92261233,  49.        ],\n",
       "       [ 10.9395402 ,  50.        ],\n",
       "       [ 10.92872561,  51.        ],\n",
       "       [ 10.913018  ,  52.        ],\n",
       "       [ 10.93018451,  53.        ],\n",
       "       [ 10.93524348,  54.        ],\n",
       "       [ 10.94094146,  55.        ],\n",
       "       [ 10.89334184,  56.        ],\n",
       "       [ 10.9431155 ,  57.        ],\n",
       "       [ 10.89511542,  58.        ],\n",
       "       [ 10.91701075,  59.        ],\n",
       "       [ 10.93304983,  60.        ],\n",
       "       [ 10.93330688,  61.        ],\n",
       "       [ 10.8527913 ,  62.        ],\n",
       "       [ 10.9464713 ,  63.        ],\n",
       "       [ 10.93716167,  64.        ],\n",
       "       [ 10.93045834,  65.        ],\n",
       "       [ 10.88565205,  66.        ],\n",
       "       [ 10.90719369,  67.        ],\n",
       "       [ 10.88907804,  68.        ],\n",
       "       [ 10.92655093,  69.        ],\n",
       "       [ 10.93900083,  70.        ],\n",
       "       [ 10.92208659,  71.        ],\n",
       "       [ 10.90498201,  72.        ],\n",
       "       [ 10.9057547 ,  73.        ],\n",
       "       [ 10.93615968,  74.        ],\n",
       "       [ 10.92960259,  75.        ],\n",
       "       [ 10.94041652,  76.        ],\n",
       "       [ 10.90277262,  77.        ],\n",
       "       [ 10.93483673,  78.        ],\n",
       "       [ 10.94498131,  79.        ],\n",
       "       [ 10.92558529,  80.        ],\n",
       "       [ 10.94578102,  81.        ],\n",
       "       [ 10.94769753,  82.        ],\n",
       "       [ 10.93916592,  83.        ],\n",
       "       [ 10.921069  ,  84.        ],\n",
       "       [ 10.92166124,  85.        ],\n",
       "       [ 10.94238537,  86.        ],\n",
       "       [ 10.92615469,  87.        ],\n",
       "       [ 10.94183622,  88.        ],\n",
       "       [ 10.92198793,  89.        ]])"
      ]
     },
     "execution_count": 6,
     "metadata": {},
     "output_type": "execute_result"
    }
   ],
   "source": [
    "#Saving the index in the error array\n",
    "rmse_by_features=np.array(rmse_by_features)\n",
    "rmse_by_features=rmse_by_features.reshape(-1,1)\n",
    "\n",
    "rmse_by_features=np.insert(rmse_by_features,1,range(0,90),axis=1)\n",
    "rmse_by_features\n"
   ]
  },
  {
   "cell_type": "code",
   "execution_count": 7,
   "metadata": {},
   "outputs": [
    {
     "data": {
      "text/plain": [
       "<matplotlib.collections.PathCollection at 0x7fd3629e0588>"
      ]
     },
     "execution_count": 7,
     "metadata": {},
     "output_type": "execute_result"
    },
    {
     "data": {
      "image/png": "[encoded data removed]",
      "text/plain": [
       "<matplotlib.figure.Figure at 0x7fd364cadcf8>"
      ]
     },
     "metadata": {},
     "output_type": "display_data"
    }
   ],
   "source": [
    "#ploting error by feature\n",
    "plt.xlabel(\"features\")\n",
    "plt.ylabel(\"RMSE\")\n",
    "plt.scatter(rmse_by_features[:,1], rmse_by_features[:,0],  color='blue')"
   ]
  },
  {
   "cell_type": "code",
   "execution_count": 8,
   "metadata": {},
   "outputs": [
    {
     "data": {
      "text/plain": [
       "[array([ 10.65784939,   0.        ]),\n",
       " array([ 10.74754234,   5.        ]),\n",
       " array([ 10.83842537,   2.        ]),\n",
       " array([ 10.8527913,  62.       ]),\n",
       " array([ 10.85993026,  39.        ]),\n",
       " array([ 10.875764,   6.      ]),\n",
       " array([ 10.88460251,  45.        ]),\n",
       " array([ 10.88565205,  66.        ]),\n",
       " array([ 10.88747262,  35.        ]),\n",
       " array([ 10.88907804,  68.        ]),\n",
       " array([ 10.89120364,  11.        ]),\n",
       " array([ 10.89334184,  56.        ]),\n",
       " array([ 10.89387348,  46.        ]),\n",
       " array([ 10.89511542,  58.        ]),\n",
       " array([ 10.89682055,  32.        ]),\n",
       " array([ 10.90277262,  77.        ]),\n",
       " array([ 10.90435649,  19.        ]),\n",
       " array([ 10.90498201,  72.        ]),\n",
       " array([ 10.9057547,  73.       ]),\n",
       " array([ 10.90719369,  67.        ]),\n",
       " array([ 10.90971508,  30.        ]),\n",
       " array([ 10.913018,  52.      ]),\n",
       " array([ 10.91350639,  13.        ]),\n",
       " array([ 10.91413519,  38.        ]),\n",
       " array([ 10.91501248,  28.        ]),\n",
       " array([ 10.91568697,  37.        ]),\n",
       " array([ 10.91701075,  59.        ]),\n",
       " array([ 10.91752442,  24.        ]),\n",
       " array([ 10.91795128,  40.        ]),\n",
       " array([ 10.92007541,  36.        ]),\n",
       " array([ 10.9202161,  21.       ]),\n",
       " array([ 10.921069,  84.      ]),\n",
       " array([ 10.92166124,  85.        ]),\n",
       " array([ 10.92198793,  89.        ]),\n",
       " array([ 10.92208659,  71.        ]),\n",
       " array([ 10.92261233,  49.        ]),\n",
       " array([ 10.9254422,  22.       ]),\n",
       " array([ 10.92556737,  23.        ]),\n",
       " array([ 10.92558529,  80.        ]),\n",
       " array([ 10.92615469,  87.        ]),\n",
       " array([ 10.92621513,  20.        ]),\n",
       " array([ 10.92655093,  69.        ]),\n",
       " array([ 10.92762991,   9.        ]),\n",
       " array([ 10.92872561,  51.        ]),\n",
       " array([ 10.92890406,  47.        ]),\n",
       " array([ 10.92960259,  75.        ]),\n",
       " array([ 10.93018451,  53.        ]),\n",
       " array([ 10.93045834,  65.        ]),\n",
       " array([ 10.93162289,  33.        ]),\n",
       " array([ 10.93304983,  60.        ]),\n",
       " array([ 10.93330688,  61.        ]),\n",
       " array([ 10.93336873,  15.        ]),\n",
       " array([ 10.93452073,  16.        ]),\n",
       " array([ 10.93483673,  78.        ]),\n",
       " array([ 10.93524348,  54.        ]),\n",
       " array([ 10.93533599,  34.        ]),\n",
       " array([ 10.93585557,  14.        ]),\n",
       " array([ 10.93598591,  27.        ]),\n",
       " array([ 10.93615968,  74.        ]),\n",
       " array([ 10.93658179,  12.        ]),\n",
       " array([ 10.93679376,  31.        ]),\n",
       " array([ 10.93716167,  64.        ]),\n",
       " array([ 10.93768516,   7.        ]),\n",
       " array([ 10.93788097,  17.        ]),\n",
       " array([ 10.93864065,  48.        ]),\n",
       " array([ 10.93900083,  70.        ]),\n",
       " array([ 10.93916592,  83.        ]),\n",
       " array([ 10.9395402,  50.       ]),\n",
       " array([ 10.93976646,  25.        ]),\n",
       " array([ 10.94041652,  76.        ]),\n",
       " array([ 10.94094146,  55.        ]),\n",
       " array([ 10.94183622,  88.        ]),\n",
       " array([ 10.94238537,  86.        ]),\n",
       " array([ 10.9431155,  57.       ]),\n",
       " array([ 10.94312916,  44.        ]),\n",
       " array([ 10.94331794,  29.        ]),\n",
       " array([ 10.9442769,   1.       ]),\n",
       " array([ 10.94498131,  79.        ]),\n",
       " array([ 10.94536191,  41.        ]),\n",
       " array([ 10.94550657,  43.        ]),\n",
       " array([ 10.94578102,  81.        ]),\n",
       " array([ 10.946434,  10.      ]),\n",
       " array([ 10.94646268,  42.        ]),\n",
       " array([ 10.9464713,  63.       ]),\n",
       " array([ 10.94648232,  18.        ]),\n",
       " array([ 10.94663406,   3.        ]),\n",
       " array([ 10.94743451,  26.        ]),\n",
       " array([ 10.94769753,  82.        ]),\n",
       " array([ 10.94779836,   4.        ]),\n",
       " array([ 10.95208666,   8.        ])]"
      ]
     },
     "execution_count": 8,
     "metadata": {},
     "output_type": "execute_result"
    }
   ],
   "source": [
    "def getKey(item):\n",
    "     return item[0]\n",
    "sorted(rmse_by_features, key=getKey)"
   ]
  },
  {
   "cell_type": "code",
   "execution_count": 9,
   "metadata": {
    "collapsed": true
   },
   "outputs": [],
   "source": [
    "#Selecting the better features (less error)\n",
    "#The features are: 0,2,5,6,39 e 62. But songs has collumn 0 as target (year), so we increment 1 in indexs \n",
    "songs_x = songs.iloc[:,[1,3,6,7,40,63]]\n",
    "songs_y = songs.iloc[:,0]\n",
    "\n",
    "songs_x = num_pipeline.fit_transform(songs_x)\n"
   ]
  },
  {
   "cell_type": "markdown",
   "metadata": {},
   "source": [
    "## Training the model using the features selected (k best)\n"
   ]
  },
  {
   "cell_type": "code",
   "execution_count": 10,
   "metadata": {},
   "outputs": [
    {
     "name": "stdout",
     "output_type": "stream",
     "text": [
      "10.3289457156\n",
      "[10.37508307586938, 10.264228899117079, 10.310324460317046, 10.338432367521737, 10.26794692544031, 10.38348914075161, 10.312127589186883, 10.342404128371594, 10.368561260067983, 10.32685930978813]\n"
     ]
    }
   ],
   "source": [
    "rmse_scores=[]\n",
    "r2_scores=[]\n",
    "\n",
    "#Cross validation with 10-folds\n",
    "kf = KFold(n_splits=10, shuffle=True, random_state=1)\n",
    "for train_index, test_index in kf.split(songs_x):\n",
    "    songs_x_train, songs_x_test = songs_x[train_index], songs_x[test_index]\n",
    "    songs_y_train, songs_y_test = songs_y[train_index], songs_y[test_index]\n",
    "\n",
    "    regr = make_pipeline(PolynomialFeatures(3), Ridge())\n",
    "    regr.named_steps['ridge'].fit(songs_x_train, songs_y_train)\n",
    "    songs_y_pred = regr.named_steps['ridge'].predict(songs_x_test)\n",
    "\n",
    "    songs_y_pred = songs_y_pred.round()\n",
    "    rmse_scores.append(np.sqrt(mean_squared_error(songs_y_test, songs_y_pred)))\n",
    "    r2_scores.append(r2_score(songs_y_test, songs_y_pred))\n",
    "\n",
    "rmse_mean=sum(rmse_scores)/float(len(rmse_scores))\n",
    "print(rmse_mean)\n",
    "print(rmse_scores)"
   ]
  },
  {
   "cell_type": "code",
   "execution_count": 11,
   "metadata": {},
   "outputs": [
    {
     "data": {
      "text/plain": [
       "0     1.000000\n",
       "1     0.227233\n",
       "7     0.111172\n",
       "47    0.096468\n",
       "20    0.086189\n",
       "73    0.084049\n",
       "74    0.082245\n",
       "68    0.081562\n",
       "14    0.077826\n",
       "53    0.073889\n",
       "38    0.073764\n",
       "29    0.073483\n",
       "39    0.070597\n",
       "25    0.064881\n",
       "85    0.060670\n",
       "22    0.048426\n",
       "70    0.047188\n",
       "23    0.044947\n",
       "34    0.042380\n",
       "10    0.034973\n",
       "79    0.031883\n",
       "16    0.031521\n",
       "11    0.029576\n",
       "75    0.028776\n",
       "84    0.028462\n",
       "17    0.028055\n",
       "51    0.026662\n",
       "32    0.026136\n",
       "87    0.025494\n",
       "13    0.022796\n",
       "        ...   \n",
       "81   -0.039637\n",
       "37   -0.040936\n",
       "62   -0.042161\n",
       "35   -0.043406\n",
       "48   -0.047816\n",
       "54   -0.050772\n",
       "86   -0.053012\n",
       "66   -0.053313\n",
       "52   -0.053915\n",
       "90   -0.055896\n",
       "21   -0.058737\n",
       "24   -0.059435\n",
       "41   -0.061353\n",
       "50   -0.061713\n",
       "72   -0.066441\n",
       "60   -0.066959\n",
       "31   -0.073348\n",
       "78   -0.087076\n",
       "33   -0.091488\n",
       "59   -0.093444\n",
       "57   -0.095802\n",
       "12   -0.097264\n",
       "69   -0.098398\n",
       "46   -0.101452\n",
       "36   -0.101587\n",
       "67   -0.103275\n",
       "40   -0.124132\n",
       "63   -0.127138\n",
       "3    -0.138384\n",
       "6    -0.188788\n",
       "Name: 0, Length: 91, dtype: float64"
      ]
     },
     "execution_count": 11,
     "metadata": {},
     "output_type": "execute_result"
    }
   ],
   "source": [
    "#Correlation between each features and the year (target)\n",
    "corr_matrix=songs.corr()\n",
    "corr_matrix[0].sort_values(ascending=False)\n"
   ]
  },
  {
   "cell_type": "code",
   "execution_count": null,
   "metadata": {
    "collapsed": true
   },
   "outputs": [],
   "source": []
  }
 ],
 "metadata": {
  "kernelspec": {
   "display_name": "Python 3",
   "language": "python",
   "name": "python3"
  },
  "language_info": {
   "codemirror_mode": {
    "name": "ipython",
    "version": 3
   },
   "file_extension": ".py",
   "mimetype": "text/x-python",
   "name": "python",
   "nbconvert_exporter": "python",
   "pygments_lexer": "ipython3",
   "version": "3.6.1"
  },
  "toc": {
   "colors": {
    "hover_highlight": "#DAA520",
    "navigate_num": "#000000",
    "navigate_text": "#333333",
    "running_highlight": "#FF0000",
    "selected_highlight": "#FFD700",
    "sidebar_border": "#EEEEEE",
    "wrapper_background": "#FFFFFF"
   },
   "moveMenuLeft": true,
   "nav_menu": {
    "height": "12px",
    "width": "252px"
   },
   "navigate_menu": true,
   "number_sections": true,
   "sideBar": true,
   "threshold": 4,
   "toc_cell": false,
   "toc_section_display": "block",
   "toc_window_display": false,
   "widenNotebook": false
  }
 },
 "nbformat": 4,
 "nbformat_minor": 2
}
