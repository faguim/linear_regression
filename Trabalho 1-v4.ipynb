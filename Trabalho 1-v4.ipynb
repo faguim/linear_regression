{
 "cells": [
  {
   "cell_type": "code",
   "execution_count": 1,
   "metadata": {
    "collapsed": true
   },
   "outputs": [],
   "source": [
    "import pandas as pd\n",
    "%matplotlib inline\n",
    "import matplotlib.pyplot as plt\n",
    "from sklearn.linear_model import LinearRegression\n",
    "import numpy as np\n",
    "from sklearn import datasets, linear_model\n",
    "from sklearn import preprocessing\n",
    "from sklearn.model_selection import train_test_split\n",
    "from sklearn.metrics import mean_squared_error\n",
    "from sklearn.pipeline import Pipeline\n",
    "from sklearn.preprocessing import StandardScaler\n",
    "from sklearn.preprocessing import PolynomialFeatures\n",
    "from sklearn.linear_model import Ridge, SGDRegressor\n",
    "from sklearn.pipeline import make_pipeline\n",
    "\n",
    "DATASET_PATH = \"datasets/\"\n",
    "\n",
    "def load_song_data(dataset_path=DATASET_PATH):\n",
    "    df = pd.read_csv(dataset_path + 'year-prediction-msd-train.txt', sep=\",\", header=None)\n",
    "    return df"
   ]
  },
  {
   "cell_type": "code",
   "execution_count": 2,
   "metadata": {
    "collapsed": true
   },
   "outputs": [],
   "source": [
    "def iter_minibatches(chunksize):\n",
    "    chunkstartmarker = 0\n",
    "    while chunkstartmarker < len(songs):\n",
    "        x_chunk = songs_x_train[chunkstartmarker:chunkstartmarker+chunksize]\n",
    "        y_chunk = songs_y_train[chunkstartmarker:chunkstartmarker+chunksize]\n",
    "        yield x_chunk, y_chunk\n",
    "        chunkstartmarker += chunksize"
   ]
  },
  {
   "cell_type": "code",
   "execution_count": 3,
   "metadata": {
    "collapsed": true
   },
   "outputs": [],
   "source": [
    "#songs é um DataFrame\n",
    "songs = load_song_data()"
   ]
  },
  {
   "cell_type": "code",
   "execution_count": 4,
   "metadata": {
    "collapsed": true
   },
   "outputs": [],
   "source": [
    "songs_x = songs.iloc[:,1:]\n",
    "songs_y = songs.iloc[:,0]\n",
    "#songs_x = songs_x.values.reshape(-1,1)\n",
    "songs_y = songs_y.values.reshape(-1,1)"
   ]
  },
  {
   "cell_type": "code",
   "execution_count": 5,
   "metadata": {
    "collapsed": true
   },
   "outputs": [],
   "source": [
    "#Normalizing\n",
    "num_pipeline = Pipeline([\n",
    "    ('std_scaler', StandardScaler()),\n",
    "])\n",
    "prepared = num_pipeline.fit_transform(songs_x)"
   ]
  },
  {
   "cell_type": "code",
   "execution_count": 6,
   "metadata": {
    "collapsed": true
   },
   "outputs": [],
   "source": [
    "songs_x_train, songs_x_test, songs_y_train, songs_y_test = train_test_split(prepared, songs_y, test_size=0.045, random_state=0)"
   ]
  },
  {
   "cell_type": "code",
   "execution_count": 7,
   "metadata": {},
   "outputs": [
    {
     "name": "stderr",
     "output_type": "stream",
     "text": [
      "/home/fagner/anaconda3/lib/python3.6/site-packages/sklearn/utils/validation.py:526: DataConversionWarning: A column-vector y was passed when a 1d array was expected. Please change the shape of y to (n_samples, ), for example using ravel().\n",
      "  y = column_or_1d(y, warn=True)\n"
     ]
    }
   ],
   "source": [
    "for count, degree in enumerate([2]):\n",
    "    batcherator = iter_minibatches(chunksize=1000)\n",
    "    regr = make_pipeline(PolynomialFeatures(degree), SGDRegressor(learning_rate='invscaling', eta0=0.001))\n",
    "    \n",
    "    for x_chunk, y_chunk in batcherator:\n",
    "        if(len(x_chunk)!=0):\n",
    "            regr.named_steps['sgdregressor'].partial_fit(x_chunk, y_chunk)\n",
    "    \n",
    "songs_y_pred = regr.named_steps['sgdregressor'].predict(songs_x_test)"
   ]
  },
  {
   "cell_type": "code",
   "execution_count": 8,
   "metadata": {},
   "outputs": [
    {
     "name": "stdout",
     "output_type": "stream",
     "text": [
      "Estimated intercept:  [ 1998.36809877]\n",
      "Coefficients:  [  5.21635179e+00  -2.58996451e+00  -8.06871084e-01  -1.43174272e+00\n",
      "  -2.51864464e-01  -2.21656930e+00   4.57697231e-01  -9.47092540e-01\n",
      "  -7.97800451e-01   5.03296440e-01   1.95373359e-02  -2.36290953e-01\n",
      "   9.72118683e-01   6.83633188e-01  -5.81697055e-01   9.20728055e-01\n",
      "   2.74740859e-01   1.35931281e+00   6.99227357e-01   1.14300888e+00\n",
      "   2.28575025e-01  -5.10982687e-01   1.31414919e+00   3.96205717e-01\n",
      "  -3.66364354e-01   1.47981970e-02   8.51233606e-01   6.93601151e-02\n",
      "   2.26815623e-01   5.53554745e-02  -9.73407778e-02  -6.35737876e-02\n",
      "  -4.02517187e-01   1.08071356e-01   2.60245802e-03  -5.47963263e-01\n",
      "  -4.27300392e-02   2.39362745e-01   4.95011989e-01  -3.84879964e-01\n",
      "  -3.07272590e-01  -9.45212175e-02  -1.10642976e-01  -1.04262042e-01\n",
      "  -9.19168058e-02   2.15181674e-01   1.69788222e-01  -5.91478576e-01\n",
      "   8.25773296e-02   2.46620520e-01  -8.52669774e-03  -1.66072789e-01\n",
      "   1.54388149e-01  -9.15542296e-02   5.48206220e-03  -5.28391896e-02\n",
      "  -5.10072373e-01   6.41790588e-01  -2.22375176e-01  -1.07136604e-01\n",
      "  -1.88527034e-01  -1.29797817e-01  -5.45576938e-02   3.41837814e-01\n",
      "  -5.55792988e-01   1.37296224e-01  -4.25695231e-02  -6.61900401e-03\n",
      "  -4.39127512e-01  -2.72337265e-02  -2.57417293e-01  -5.35824164e-02\n",
      "   1.98701944e-01   3.90867352e-01   1.69226406e-01   3.32552760e-01\n",
      "   1.06568880e-01  -5.64957124e-01  -8.64391220e-02  -4.27552898e-02\n",
      "   7.11892740e-02  -1.87086219e-01   1.50333892e-01   3.66887164e-02\n",
      "   3.99474481e-01  -1.09477609e-01   2.10478720e-01  -2.74248864e-01\n",
      "  -2.29151766e-01  -9.10100197e-02]\n",
      "Mean squared error: 9.62\n"
     ]
    }
   ],
   "source": [
    "# The coefficients\n",
    "print('Estimated intercept: ', regr.named_steps['sgdregressor'].intercept_)\n",
    "\n",
    "# The coefficients\n",
    "print('Coefficients: ', regr.named_steps['sgdregressor'].coef_)\n",
    "\n",
    "# The mean squared error\n",
    "print(\"Mean squared error: %.2f\"\n",
    "      % np.sqrt(mean_squared_error(songs_y_test, songs_y_pred)))"
   ]
  }
 ],
 "metadata": {
  "kernelspec": {
   "display_name": "Python 3",
   "language": "python",
   "name": "python3"
  },
  "language_info": {
   "codemirror_mode": {
    "name": "ipython",
    "version": 3
   },
   "file_extension": ".py",
   "mimetype": "text/x-python",
   "name": "python",
   "nbconvert_exporter": "python",
   "pygments_lexer": "ipython3",
   "version": "3.6.1"
  },
  "toc": {
   "colors": {
    "hover_highlight": "#DAA520",
    "navigate_num": "#000000",
    "navigate_text": "#333333",
    "running_highlight": "#FF0000",
    "selected_highlight": "#FFD700",
    "sidebar_border": "#EEEEEE",
    "wrapper_background": "#FFFFFF"
   },
   "moveMenuLeft": true,
   "nav_menu": {
    "height": "12px",
    "width": "252px"
   },
   "navigate_menu": true,
   "number_sections": true,
   "sideBar": true,
   "threshold": 4,
   "toc_cell": false,
   "toc_section_display": "block",
   "toc_window_display": false,
   "widenNotebook": false
  }
 },
 "nbformat": 4,
 "nbformat_minor": 2
}
