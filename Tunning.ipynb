{
 "cells": [
  {
   "cell_type": "code",
   "execution_count": 1,
   "metadata": {
    "collapsed": true
   },
   "outputs": [],
   "source": [
    "import pandas as pd\n",
    "%matplotlib inline\n",
    "import matplotlib.pyplot as plt\n",
    "from sklearn.linear_model import LinearRegression\n",
    "import numpy as np\n",
    "from sklearn import datasets, linear_model\n",
    "from sklearn import preprocessing\n",
    "from sklearn.model_selection import train_test_split, KFold\n",
    "from sklearn.metrics import mean_squared_error, r2_score\n",
    "from sklearn.pipeline import Pipeline\n",
    "from sklearn.preprocessing import StandardScaler\n",
    "from sklearn.preprocessing import PolynomialFeatures\n",
    "from sklearn.linear_model import Ridge, SGDRegressor\n",
    "from sklearn.pipeline import make_pipeline\n",
    "\n",
    "DATASET_PATH = \"datasets/\"\n",
    "\n",
    "def load_song_data(dataset_path=DATASET_PATH):\n",
    "    df = pd.read_csv(dataset_path + 'year-prediction-msd-train.txt', sep=\",\", header=None)\n",
    "    return df"
   ]
  },
  {
   "cell_type": "code",
   "execution_count": 2,
   "metadata": {
    "collapsed": true
   },
   "outputs": [],
   "source": [
    "#songs é um DataFrame\n",
    "songs = load_song_data()"
   ]
  },
  {
   "cell_type": "code",
   "execution_count": 3,
   "metadata": {
    "collapsed": true
   },
   "outputs": [],
   "source": [
    "songs_x = songs.iloc[:,1:]\n",
    "songs_y = songs.iloc[:,0]\n",
    "#songs_x = songs_x.values.reshape(-1,1)\n",
    "songs_y = songs_y.values.reshape(-1,1)"
   ]
  },
  {
   "cell_type": "code",
   "execution_count": 4,
   "metadata": {
    "collapsed": true
   },
   "outputs": [],
   "source": [
    "#Normalizing\n",
    "num_pipeline = Pipeline([\n",
    "    ('std_scaler', StandardScaler()),\n",
    "])\n",
    "songs_x = num_pipeline.fit_transform(songs_x)"
   ]
  },
  {
   "cell_type": "code",
   "execution_count": 5,
   "metadata": {
    "collapsed": true
   },
   "outputs": [],
   "source": [
    "#songs_[x/y]_train must exist because iter_minibatches uses it\n",
    "songs_x_train=songs_x\n",
    "songs_y_train=songs_y"
   ]
  },
  {
   "cell_type": "code",
   "execution_count": 6,
   "metadata": {
    "collapsed": true
   },
   "outputs": [],
   "source": [
    "def iter_minibatches(chunksize):\n",
    "    chunkstartmarker = 0\n",
    "    while chunkstartmarker < len(songs):\n",
    "        x_chunk = songs_x_train[chunkstartmarker:chunkstartmarker+chunksize]\n",
    "        y_chunk = songs_y_train[chunkstartmarker:chunkstartmarker+chunksize]\n",
    "        yield x_chunk, y_chunk\n",
    "        chunkstartmarker += chunksize"
   ]
  },
  {
   "cell_type": "code",
   "execution_count": 7,
   "metadata": {},
   "outputs": [
    {
     "name": "stderr",
     "output_type": "stream",
     "text": [
      "/usr/local/lib/python3.5/dist-packages/sklearn/linear_model/stochastic_gradient.py:84: FutureWarning: max_iter and tol parameters have been added in <class 'sklearn.linear_model.stochastic_gradient.SGDRegressor'> in 0.19. If both are left unset, they default to max_iter=5 and tol=None. If tol is not None, max_iter defaults to max_iter=1000. From 0.21, default max_iter will be 1000, and default tol will be 1e-3.\n",
      "  \"and default tol will be 1e-3.\" % type(self), FutureWarning)\n",
      "/usr/local/lib/python3.5/dist-packages/sklearn/utils/validation.py:547: DataConversionWarning: A column-vector y was passed when a 1d array was expected. Please change the shape of y to (n_samples, ), for example using ravel().\n",
      "  y = column_or_1d(y, warn=True)\n"
     ]
    }
   ],
   "source": [
    "for count, degree in enumerate([2]):\n",
    "    batcherator = iter_minibatches(chunksize=1000)\n",
    "    regr = make_pipeline(PolynomialFeatures(degree), SGDRegressor(learning_rate='invscaling', eta0=0.001))\n",
    "    \n",
    "    for x_chunk, y_chunk in batcherator:\n",
    "        if(len(x_chunk)!=0):\n",
    "            regr.named_steps['sgdregressor'].partial_fit(x_chunk, y_chunk)\n",
    "    "
   ]
  },
  {
   "cell_type": "code",
   "execution_count": 8,
   "metadata": {},
   "outputs": [],
   "source": [
    "#Cross validation - kfold strategy\n",
    "kf = KFold(n_splits=10)\n",
    "rmse_scores = list()\n",
    "r2_scores = list()\n",
    "\n",
    "for train_index, test_index in kf.split(songs_x):\n",
    "    songs_x_train, songs_x_test = songs_x[train_index], songs_x[test_index]\n",
    "    songs_y_train, songs_y_test = songs_y[train_index], songs_y[test_index]\n",
    "    songs_y_pred = regr.named_steps['sgdregressor'].predict(songs_x_test)\n",
    "    songs_y_pred = songs_y_pred.round()\n",
    "    rmse_scores.append(np.sqrt(mean_squared_error(songs_y_test, songs_y_pred)))\n",
    "    r2_scores.append(r2_score(songs_y_test, songs_y_pred))"
   ]
  },
  {
   "cell_type": "code",
   "execution_count": 9,
   "metadata": {
    "collapsed": true
   },
   "outputs": [],
   "source": [
    "def display_scores(scores):\n",
    "    print(\"Scores:\", scores)\n",
    "    print(\"Mean:\", sum(scores)/float(len(scores)))"
   ]
  },
  {
   "cell_type": "code",
   "execution_count": 10,
   "metadata": {},
   "outputs": [
    {
     "name": "stdout",
     "output_type": "stream",
     "text": [
      "Scores: [9.5349511646217984, 9.5822898870257482, 9.5106810253949501, 9.5797960323300817, 9.615857740717118, 9.6940906795879354, 9.6442802328087325, 9.5612680833400692, 9.6612526565684096, 9.6061066708798943]\n",
      "Mean: 9.59905741733\n",
      "Scores: [0.237442090197167, 0.22619372220447709, 0.23295489784442769, 0.22811635250791973, 0.2301010820865379, 0.23016350918021977, 0.23222488217200266, 0.2245539209122106, 0.22743150269987511, 0.23115921195116429]\n",
      "Mean: 0.230034117176\n"
     ]
    }
   ],
   "source": [
    "display_scores(rmse_scores)\n",
    "display_scores(r2_scores)"
   ]
  },
  {
   "cell_type": "code",
   "execution_count": 11,
   "metadata": {},
   "outputs": [
    {
     "name": "stdout",
     "output_type": "stream",
     "text": [
      "Estimated intercept:  [ 1998.42084545]\n",
      "Coefficients:  [  5.17929496e+00  -2.51194633e+00  -1.05400757e+00  -1.15141091e+00\n",
      "  -1.39175659e-01  -2.16153873e+00   5.12063736e-01  -9.01418507e-01\n",
      "  -7.90376022e-01   4.16191467e-01   2.00962990e-01  -2.84521661e-01\n",
      "   9.04021276e-01   6.24972071e-01  -6.04387351e-01   1.86645380e+00\n",
      "   3.12072395e-01   1.32991332e+00   5.69128416e-01   8.66369250e-01\n",
      "   5.51418699e-02  -1.40889421e-01  -7.26765786e-03   5.07928036e-01\n",
      "  -3.88438000e-01  -1.83359633e-02   1.01821482e+00   1.00039102e-01\n",
      "   2.13730383e-01  -1.02902981e-01  -1.49559470e-01  -4.04740785e-02\n",
      "  -3.41696255e-01   2.28724584e-01  -6.19257612e-02  -6.18825771e-01\n",
      "  -6.92948641e-02   2.29983723e-01   4.37431834e-01  -3.53490426e-01\n",
      "  -1.37616538e-01  -1.18741217e-01  -1.18679960e-01  -8.77841081e-02\n",
      "  -1.21329848e-01   1.38508132e-01   2.52358794e-01  -7.30602320e-01\n",
      "   1.06114770e-01   1.73624265e-01   6.75878755e-03  -1.15585376e-01\n",
      "   1.35198004e-01  -1.45410298e-02   1.50814293e-01  -1.16453062e-01\n",
      "  -7.39665324e-01   3.37817882e-01  -2.48791396e-01   9.05588240e-02\n",
      "  -1.72819425e-01  -3.16486305e-02   2.03154001e-02   3.74402706e-01\n",
      "  -5.05446085e-01   1.20287916e-01   2.00963472e-02  -1.15856946e-01\n",
      "  -5.50538849e-01  -5.66721155e-02  -1.83196381e-01  -6.56789574e-03\n",
      "   2.96781966e-01   3.35610842e-01   1.01561164e-01   3.84801929e-01\n",
      "   2.07999471e-02  -6.26961538e-01  -3.65117193e-01  -5.43798732e-02\n",
      "   4.79483034e-03  -1.13098711e-01   1.03339921e-01   1.60144545e-01\n",
      "   5.02718382e-01   3.75242660e-02   1.33650036e-01  -1.35017845e-01\n",
      "  -3.22816164e-01  -1.73871958e-01]\n"
     ]
    }
   ],
   "source": [
    "#The coefficients only for the last cross-validation test\n",
    "\n",
    "# The coefficients\n",
    "print('Estimated intercept: ', regr.named_steps['sgdregressor'].intercept_)\n",
    "\n",
    "# The coefficients\n",
    "print('Coefficients: ', regr.named_steps['sgdregressor'].coef_)"
   ]
  },
  {
   "cell_type": "code",
   "execution_count": null,
   "metadata": {
    "collapsed": true
   },
   "outputs": [],
   "source": []
  }
 ],
 "metadata": {
  "kernelspec": {
   "display_name": "Python 3",
   "language": "python",
   "name": "python3"
  },
  "language_info": {
   "codemirror_mode": {
    "name": "ipython",
    "version": 3
   },
   "file_extension": ".py",
   "mimetype": "text/x-python",
   "name": "python",
   "nbconvert_exporter": "python",
   "pygments_lexer": "ipython3",
   "version": "3.5.2"
  },
  "toc": {
   "colors": {
    "hover_highlight": "#DAA520",
    "navigate_num": "#000000",
    "navigate_text": "#333333",
    "running_highlight": "#FF0000",
    "selected_highlight": "#FFD700",
    "sidebar_border": "#EEEEEE",
    "wrapper_background": "#FFFFFF"
   },
   "moveMenuLeft": true,
   "nav_menu": {
    "height": "12px",
    "width": "252px"
   },
   "navigate_menu": true,
   "number_sections": true,
   "sideBar": true,
   "threshold": 4,
   "toc_cell": false,
   "toc_section_display": "block",
   "toc_window_display": false,
   "widenNotebook": false
  }
 },
 "nbformat": 4,
 "nbformat_minor": 2
}
