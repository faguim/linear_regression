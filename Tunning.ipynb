{
 "cells": [
  {
   "cell_type": "code",
   "execution_count": 1,
   "metadata": {
    "collapsed": true
   },
   "outputs": [],
   "source": [
    "import pandas as pd\n",
    "%matplotlib inline\n",
    "import matplotlib.pyplot as plt\n",
    "from sklearn.linear_model import LinearRegression\n",
    "import numpy as np\n",
    "from sklearn import datasets, linear_model\n",
    "from sklearn import preprocessing\n",
    "from sklearn.model_selection import train_test_split, KFold\n",
    "from sklearn.metrics import mean_squared_error, r2_score\n",
    "from sklearn.pipeline import Pipeline\n",
    "from sklearn.preprocessing import StandardScaler\n",
    "from sklearn.preprocessing import PolynomialFeatures\n",
    "from sklearn.linear_model import Ridge, SGDRegressor\n",
    "from sklearn.pipeline import make_pipeline\n",
    "\n",
    "DATASET_PATH = \"datasets/\"\n",
    "\n",
    "def load_song_data(dataset_path=DATASET_PATH):\n",
    "    df = pd.read_csv(dataset_path + 'year-prediction-msd-train.txt', sep=\",\", header=None)\n",
    "    return df"
   ]
  },
  {
   "cell_type": "code",
   "execution_count": 2,
   "metadata": {
    "collapsed": true
   },
   "outputs": [],
   "source": [
    "#songs é um DataFrame\n",
    "songs = load_song_data()"
   ]
  },
  {
   "cell_type": "code",
   "execution_count": 3,
   "metadata": {},
   "outputs": [
    {
     "data": {
      "text/plain": [
       "(463715,)"
      ]
     },
     "execution_count": 3,
     "metadata": {},
     "output_type": "execute_result"
    }
   ],
   "source": [
    "songs_x = songs.iloc[:,1:]\n",
    "songs_y = songs.iloc[:,0]\n",
    "songs_y.shape"
   ]
  },
  {
   "cell_type": "code",
   "execution_count": 4,
   "metadata": {
    "collapsed": true
   },
   "outputs": [],
   "source": [
    "#Normalizing\n",
    "num_pipeline = Pipeline([\n",
    "    ('std_scaler', StandardScaler()),\n",
    "])\n",
    "songs_x = num_pipeline.fit_transform(songs_x)"
   ]
  },
  {
   "cell_type": "code",
   "execution_count": 5,
   "metadata": {
    "collapsed": true
   },
   "outputs": [],
   "source": [
    "def iter_minibatches(chunksize, x_train, y_train):\n",
    "    chunkstartmarker = 0\n",
    "    while chunkstartmarker < len(x_train):\n",
    "        x_chunk = x_train[chunkstartmarker:chunkstartmarker+chunksize]\n",
    "        y_chunk = y_train[chunkstartmarker:chunkstartmarker+chunksize]\n",
    "        yield x_chunk, y_chunk\n",
    "        chunkstartmarker += chunksize"
   ]
  },
  {
   "cell_type": "code",
   "execution_count": 6,
   "metadata": {},
   "outputs": [],
   "source": [
    "def training (chunksize, x_train, y_train):\n",
    "    for count, degree in enumerate([2]):\n",
    "        batcherator = iter_minibatches(chunksize=chunksize, x_train=x_train, y_train=y_train)\n",
    "        regr = make_pipeline(PolynomialFeatures(degree), SGDRegressor(learning_rate='invscaling', eta0=0.001))\n",
    "    \n",
    "        for x_chunk, y_chunk in batcherator:\n",
    "            if(len(x_chunk)!=0):\n",
    "                regr.named_steps['sgdregressor'].partial_fit(x_chunk, y_chunk)\n",
    "        return regr\n",
    "        \n",
    "    "
   ]
  },
  {
   "cell_type": "code",
   "execution_count": 7,
   "metadata": {},
   "outputs": [
    {
     "name": "stderr",
     "output_type": "stream",
     "text": [
      "/usr/local/lib/python3.5/dist-packages/sklearn/linear_model/stochastic_gradient.py:84: FutureWarning: max_iter and tol parameters have been added in <class 'sklearn.linear_model.stochastic_gradient.SGDRegressor'> in 0.19. If both are left unset, they default to max_iter=5 and tol=None. If tol is not None, max_iter defaults to max_iter=1000. From 0.21, default max_iter will be 1000, and default tol will be 1e-3.\n",
      "  \"and default tol will be 1e-3.\" % type(self), FutureWarning)\n",
      "/usr/local/lib/python3.5/dist-packages/sklearn/linear_model/stochastic_gradient.py:84: FutureWarning: max_iter and tol parameters have been added in <class 'sklearn.linear_model.stochastic_gradient.SGDRegressor'> in 0.19. If both are left unset, they default to max_iter=5 and tol=None. If tol is not None, max_iter defaults to max_iter=1000. From 0.21, default max_iter will be 1000, and default tol will be 1e-3.\n",
      "  \"and default tol will be 1e-3.\" % type(self), FutureWarning)\n",
      "/usr/local/lib/python3.5/dist-packages/sklearn/linear_model/stochastic_gradient.py:84: FutureWarning: max_iter and tol parameters have been added in <class 'sklearn.linear_model.stochastic_gradient.SGDRegressor'> in 0.19. If both are left unset, they default to max_iter=5 and tol=None. If tol is not None, max_iter defaults to max_iter=1000. From 0.21, default max_iter will be 1000, and default tol will be 1e-3.\n",
      "  \"and default tol will be 1e-3.\" % type(self), FutureWarning)\n",
      "/usr/local/lib/python3.5/dist-packages/sklearn/linear_model/stochastic_gradient.py:84: FutureWarning: max_iter and tol parameters have been added in <class 'sklearn.linear_model.stochastic_gradient.SGDRegressor'> in 0.19. If both are left unset, they default to max_iter=5 and tol=None. If tol is not None, max_iter defaults to max_iter=1000. From 0.21, default max_iter will be 1000, and default tol will be 1e-3.\n",
      "  \"and default tol will be 1e-3.\" % type(self), FutureWarning)\n",
      "/usr/local/lib/python3.5/dist-packages/sklearn/linear_model/stochastic_gradient.py:84: FutureWarning: max_iter and tol parameters have been added in <class 'sklearn.linear_model.stochastic_gradient.SGDRegressor'> in 0.19. If both are left unset, they default to max_iter=5 and tol=None. If tol is not None, max_iter defaults to max_iter=1000. From 0.21, default max_iter will be 1000, and default tol will be 1e-3.\n",
      "  \"and default tol will be 1e-3.\" % type(self), FutureWarning)\n",
      "/usr/local/lib/python3.5/dist-packages/sklearn/linear_model/stochastic_gradient.py:84: FutureWarning: max_iter and tol parameters have been added in <class 'sklearn.linear_model.stochastic_gradient.SGDRegressor'> in 0.19. If both are left unset, they default to max_iter=5 and tol=None. If tol is not None, max_iter defaults to max_iter=1000. From 0.21, default max_iter will be 1000, and default tol will be 1e-3.\n",
      "  \"and default tol will be 1e-3.\" % type(self), FutureWarning)\n",
      "/usr/local/lib/python3.5/dist-packages/sklearn/linear_model/stochastic_gradient.py:84: FutureWarning: max_iter and tol parameters have been added in <class 'sklearn.linear_model.stochastic_gradient.SGDRegressor'> in 0.19. If both are left unset, they default to max_iter=5 and tol=None. If tol is not None, max_iter defaults to max_iter=1000. From 0.21, default max_iter will be 1000, and default tol will be 1e-3.\n",
      "  \"and default tol will be 1e-3.\" % type(self), FutureWarning)\n",
      "/usr/local/lib/python3.5/dist-packages/sklearn/linear_model/stochastic_gradient.py:84: FutureWarning: max_iter and tol parameters have been added in <class 'sklearn.linear_model.stochastic_gradient.SGDRegressor'> in 0.19. If both are left unset, they default to max_iter=5 and tol=None. If tol is not None, max_iter defaults to max_iter=1000. From 0.21, default max_iter will be 1000, and default tol will be 1e-3.\n",
      "  \"and default tol will be 1e-3.\" % type(self), FutureWarning)\n",
      "/usr/local/lib/python3.5/dist-packages/sklearn/linear_model/stochastic_gradient.py:84: FutureWarning: max_iter and tol parameters have been added in <class 'sklearn.linear_model.stochastic_gradient.SGDRegressor'> in 0.19. If both are left unset, they default to max_iter=5 and tol=None. If tol is not None, max_iter defaults to max_iter=1000. From 0.21, default max_iter will be 1000, and default tol will be 1e-3.\n",
      "  \"and default tol will be 1e-3.\" % type(self), FutureWarning)\n",
      "/usr/local/lib/python3.5/dist-packages/sklearn/linear_model/stochastic_gradient.py:84: FutureWarning: max_iter and tol parameters have been added in <class 'sklearn.linear_model.stochastic_gradient.SGDRegressor'> in 0.19. If both are left unset, they default to max_iter=5 and tol=None. If tol is not None, max_iter defaults to max_iter=1000. From 0.21, default max_iter will be 1000, and default tol will be 1e-3.\n",
      "  \"and default tol will be 1e-3.\" % type(self), FutureWarning)\n"
     ]
    }
   ],
   "source": [
    "#Cross validation - kfold strategy\n",
    "kf = KFold(n_splits=10, shuffle=True, random_state=1) #define n groups\n",
    "rmse_scores = list()\n",
    "r2_scores = list()\n",
    "\n",
    "#for each par (train,test) in slip -> train, test and compute error\n",
    "#inwhich train has k-1 groups test 1 group\n",
    "for train_index, test_index in kf.split(songs_x):    \n",
    "    songs_x_train, songs_x_test = songs_x[train_index], songs_x[test_index]\n",
    "    songs_y_train, songs_y_test = songs_y[train_index], songs_y[test_index]\n",
    "    #train\n",
    "    regr=training(1000, songs_x_train,songs_y_train)\n",
    "    #test\n",
    "    songs_y_pred = regr.named_steps['sgdregressor'].predict(songs_x_test)    \n",
    "    songs_y_pred = songs_y_pred.round()\n",
    "    #compute scores\n",
    "    rmse_scores.append(np.sqrt(mean_squared_error(songs_y_test, songs_y_pred)))\n",
    "    r2_scores.append(r2_score(songs_y_test, songs_y_pred))"
   ]
  },
  {
   "cell_type": "code",
   "execution_count": 8,
   "metadata": {
    "collapsed": true
   },
   "outputs": [],
   "source": [
    "def display_scores(scores):\n",
    "    print(\"Mean:\", sum(scores)/float(len(scores)))"
   ]
  },
  {
   "cell_type": "code",
   "execution_count": 9,
   "metadata": {},
   "outputs": [
    {
     "name": "stdout",
     "output_type": "stream",
     "text": [
      "Mean: 9.60657606527\n",
      "Mean: 0.228843703702\n"
     ]
    }
   ],
   "source": [
    "display_scores(rmse_scores)\n",
    "display_scores(r2_scores)"
   ]
  },
  {
   "cell_type": "code",
   "execution_count": 10,
   "metadata": {},
   "outputs": [
    {
     "name": "stdout",
     "output_type": "stream",
     "text": [
      "Estimated intercept:  [ 1998.39216851]\n",
      "Coefficients:  [ 5.13044796 -2.43290429 -0.69773119 -1.66838709 -0.15612549 -2.15285702\n",
      "  0.62366109 -0.97849586 -0.80197153  0.4926904   0.34584935 -0.33268395\n",
      "  0.83870647  0.62828435 -0.55494851  2.01173906  0.32785762  1.87469933\n",
      "  0.58619204  0.92854858  0.12184831 -0.3932338  -0.27453474  0.53204128\n",
      " -0.37555087 -0.04647131  0.99136711  0.10349206  0.23484538 -0.13918802\n",
      " -0.18837929 -0.01614501 -0.42903141  0.20993216 -0.10555413 -0.66208901\n",
      " -0.04874211  0.1977199   0.50500887 -0.3377201  -0.13854317 -0.14195695\n",
      " -0.09802609 -0.06500913 -0.10667797  0.10127259  0.25103798 -0.81780886\n",
      "  0.13155618  0.15450145 -0.02810552 -0.11633315  0.14879585 -0.04700927\n",
      "  0.17848514 -0.15367397 -0.79370924  0.34433202 -0.29732881  0.02392038\n",
      " -0.16655401 -0.02340273  0.17388462  0.36202334 -0.52921118  0.09899448\n",
      "  0.03947245 -0.05372267 -0.58396044  0.03061935 -0.13246243 -0.03220758\n",
      "  0.35245236  0.32672819  0.05983978  0.35914809  0.05627796 -0.63247401\n",
      " -0.39675617 -0.04634863 -0.01244085 -0.2030981   0.0970202   0.19147017\n",
      "  0.54657268  0.03771422  0.1572828  -0.07367139 -0.30647262 -0.19123651]\n"
     ]
    }
   ],
   "source": [
    "#The coefficients only for the last cross-validation test\n",
    "\n",
    "# The coefficients\n",
    "print('Estimated intercept: ', regr.named_steps['sgdregressor'].intercept_)\n",
    "\n",
    "# The coefficients\n",
    "print('Coefficients: ', regr.named_steps['sgdregressor'].coef_)"
   ]
  },
  {
   "cell_type": "code",
   "execution_count": null,
   "metadata": {},
   "outputs": [],
   "source": []
  },
  {
   "cell_type": "code",
   "execution_count": null,
   "metadata": {
    "collapsed": true
   },
   "outputs": [],
   "source": []
  }
 ],
 "metadata": {
  "kernelspec": {
   "display_name": "Python 3",
   "language": "python",
   "name": "python3"
  },
  "language_info": {
   "codemirror_mode": {
    "name": "ipython",
    "version": 3
   },
   "file_extension": ".py",
   "mimetype": "text/x-python",
   "name": "python",
   "nbconvert_exporter": "python",
   "pygments_lexer": "ipython3",
   "version": "3.5.2"
  },
  "toc": {
   "colors": {
    "hover_highlight": "#DAA520",
    "navigate_num": "#000000",
    "navigate_text": "#333333",
    "running_highlight": "#FF0000",
    "selected_highlight": "#FFD700",
    "sidebar_border": "#EEEEEE",
    "wrapper_background": "#FFFFFF"
   },
   "moveMenuLeft": true,
   "nav_menu": {
    "height": "12px",
    "width": "252px"
   },
   "navigate_menu": true,
   "number_sections": true,
   "sideBar": true,
   "threshold": 4,
   "toc_cell": false,
   "toc_section_display": "block",
   "toc_window_display": false,
   "widenNotebook": false
  }
 },
 "nbformat": 4,
 "nbformat_minor": 2
}
