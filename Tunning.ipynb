{
 "cells": [
  {
   "cell_type": "markdown",
   "metadata": {},
   "source": [
    "# Polinomial Regression\n",
    "\n",
    "Cross Validation\n",
    "\n",
    "Better Features Selection\n",
    "\n",
    "Stratified Cross validation "
   ]
  },
  {
   "cell_type": "code",
   "execution_count": 1,
   "metadata": {
    "collapsed": true
   },
   "outputs": [],
   "source": [
    "import pandas as pd\n",
    "%matplotlib inline\n",
    "import matplotlib.pyplot as plt\n",
    "from sklearn.linear_model import LinearRegression, LassoCV, Ridge, SGDRegressor\n",
    "import numpy as np\n",
    "from sklearn import datasets, linear_model\n",
    "from sklearn import preprocessing\n",
    "from sklearn.model_selection import train_test_split, KFold, StratifiedShuffleSplit\n",
    "from sklearn.metrics import mean_squared_error, r2_score\n",
    "from sklearn.pipeline import Pipeline, make_pipeline\n",
    "from sklearn.preprocessing import StandardScaler, PolynomialFeatures\n",
    "from sklearn.feature_selection import SelectPercentile, f_regression, SelectKBest, mutual_info_regression, RFE, SelectFromModel\n",
    "\n",
    "DATASET_PATH = \"dataset/\"\n",
    "\n",
    "def load_song_data(dataset_path=DATASET_PATH):\n",
    "    df = pd.read_csv(dataset_path + 'year-prediction-msd-train.txt', sep=\",\", header=None)\n",
    "    return df"
   ]
  },
  {
   "cell_type": "code",
   "execution_count": 2,
   "metadata": {
    "collapsed": true
   },
   "outputs": [],
   "source": [
    "def iter_minibatches(chunksize, x_train, y_train):\n",
    "    chunkstartmarker = 0\n",
    "    while chunkstartmarker < len(x_train):\n",
    "        x_chunk = x_train[chunkstartmarker:chunkstartmarker+chunksize]\n",
    "        y_chunk = y_train[chunkstartmarker:chunkstartmarker+chunksize]\n",
    "        yield x_chunk, y_chunk\n",
    "        chunkstartmarker += chunksize"
   ]
  },
  {
   "cell_type": "code",
   "execution_count": 3,
   "metadata": {
    "collapsed": true
   },
   "outputs": [],
   "source": [
    "def training (chunksize, x_train, y_train):\n",
    "    for count, degree in enumerate([2]):\n",
    "        batcherator = iter_minibatches(chunksize=chunksize, x_train=x_train, y_train=y_train)\n",
    "        regr = make_pipeline(PolynomialFeatures(degree), SGDRegressor(learning_rate='invscaling', eta0=0.001))\n",
    "    \n",
    "        for x_chunk, y_chunk in batcherator:\n",
    "            if(len(x_chunk)!=0):\n",
    "                regr.named_steps['sgdregressor'].partial_fit(x_chunk, y_chunk)\n",
    "        return regr"
   ]
  },
  {
   "cell_type": "code",
   "execution_count": 4,
   "metadata": {
    "collapsed": true
   },
   "outputs": [],
   "source": [
    "#songs é um DataFrame\n",
    "songs = load_song_data()"
   ]
  },
  {
   "cell_type": "code",
   "execution_count": 5,
   "metadata": {
    "collapsed": true
   },
   "outputs": [],
   "source": [
    "songs_x = songs.iloc[:,1:]\n",
    "songs_y = songs.iloc[:,0]"
   ]
  },
  {
   "cell_type": "code",
   "execution_count": 6,
   "metadata": {
    "collapsed": true
   },
   "outputs": [],
   "source": [
    "num_pipeline = Pipeline([\n",
    "    ('std_scaler', StandardScaler()),\n",
    "    ('skb', SelectKBest(f_regression, k=80)),#Fazer um gráfico variando mean-squared-error | k. Ate agora 80 é o melhor\n",
    "    #('rfe',RFE(Ridge(), n_features_to_select=30)),\n",
    "    #('lasso', RandomizedLasso(alpha=1)),\n",
    "    ('sfm', SelectFromModel(LassoCV(), threshold='1.25*mean'))\n",
    "])\n",
    "songs_x = num_pipeline.fit_transform(songs_x, songs_y.ravel())"
   ]
  },
  {
   "cell_type": "code",
   "execution_count": 7,
   "metadata": {
    "collapsed": true
   },
   "outputs": [],
   "source": [
    "#Cross validation - kfold strategy\n",
    "kf = KFold(n_splits=10, shuffle=True, random_state=1) #define n groups\n",
    "rmse_scores = list()\n",
    "r2_scores = list()\n",
    "\n",
    "#for each par (train,test) in slip -> train, test and compute error\n",
    "#inwhich train has k-1 groups test 1 group\n",
    "for train_index, test_index in kf.split(songs_x):\n",
    "    songs_x_train, songs_x_test = songs_x[train_index], songs_x[test_index]\n",
    "    songs_y_train, songs_y_test = songs_y[train_index], songs_y[test_index]\n",
    "    \n",
    "    #train\n",
    "    #regr=training(1000, songs_x_train,songs_y_train)\n",
    "    #test\n",
    "    #songs_y_pred = regr.named_steps['sgdregressor'].predict(songs_x_test)    \n",
    "    \n",
    "    regr = make_pipeline(PolynomialFeatures(3), Ridge())\n",
    "    regr.named_steps['ridge'].fit(songs_x_train, songs_y_train)\n",
    "    songs_y_pred = regr.named_steps['ridge'].predict(songs_x_test)\n",
    "    \n",
    "    songs_y_pred = songs_y_pred.round()\n",
    "    #compute scores\n",
    "    rmse_scores.append(np.sqrt(mean_squared_error(songs_y_test, songs_y_pred)))\n",
    "    r2_scores.append(r2_score(songs_y_test, songs_y_pred))"
   ]
  },
  {
   "cell_type": "code",
   "execution_count": 8,
   "metadata": {
    "collapsed": true
   },
   "outputs": [],
   "source": [
    "def display_scores(scores):\n",
    "    print(\"Mean:\", sum(scores)/float(len(scores)))"
   ]
  },
  {
   "cell_type": "code",
   "execution_count": 9,
   "metadata": {},
   "outputs": [
    {
     "name": "stdout",
     "output_type": "stream",
     "text": [
      "Mean: 9.74169281988\n",
      "Mean: 0.207007097627\n"
     ]
    }
   ],
   "source": [
    "display_scores(rmse_scores)\n",
    "display_scores(r2_scores)"
   ]
  },
  {
   "cell_type": "code",
   "execution_count": 10,
   "metadata": {},
   "outputs": [
    {
     "name": "stdout",
     "output_type": "stream",
     "text": [
      "Features:  17\n",
      "Estimated intercept:  1998.37902106\n",
      "Coefficients:  [ 5.0458941  -2.57738719 -1.3515702  -3.03908911 -0.36878972 -0.59689765\n",
      " -0.64139493  1.0106891   0.4297222   0.99732183  0.54931527  1.05710058\n",
      "  1.45266035  0.99306548 -1.05801698 -0.39695331 -0.68898059]\n"
     ]
    }
   ],
   "source": [
    "print('Features: ', songs_x_train.shape[1])\n",
    "\n",
    "#The coefficients only for the last cross-validation test\n",
    "\n",
    "# The coefficients\n",
    "print('Estimated intercept: ', regr.named_steps['ridge'].intercept_)\n",
    "\n",
    "# The coefficients\n",
    "print('Coefficients: ', regr.named_steps['ridge'].coef_)"
   ]
  },
  {
   "cell_type": "markdown",
   "metadata": {},
   "source": [
    "## Other way to split train e test sets"
   ]
  },
  {
   "cell_type": "code",
   "execution_count": 11,
   "metadata": {
    "collapsed": true
   },
   "outputs": [],
   "source": [
    "#Generates 5 categories of year (size:+- 18 years)\n",
    "n_cat=5\n",
    "size=(np.max(songs_y)-np.min(songs_y))/n_cat\n",
    "songs[\"year_cat\"] = np.ceil((songs_y-np.min(songs_y)) / size)"
   ]
  },
  {
   "cell_type": "code",
   "execution_count": 12,
   "metadata": {},
   "outputs": [
    {
     "data": {
      "text/plain": [
       "5.0    0.770044\n",
       "4.0    0.172138\n",
       "3.0    0.052429\n",
       "2.0    0.004434\n",
       "1.0    0.000942\n",
       "0.0    0.000013\n",
       "Name: year_cat, dtype: float64"
      ]
     },
     "execution_count": 12,
     "metadata": {},
     "output_type": "execute_result"
    }
   ],
   "source": [
    "#Distribution of data in categories\n",
    "songs[\"year_cat\"].value_counts()/len(songs)"
   ]
  },
  {
   "cell_type": "code",
   "execution_count": 13,
   "metadata": {},
   "outputs": [],
   "source": [
    "\n",
    "\n",
    "\n",
    "#Representative test set (equal percentage of data in each category)\n",
    "split = StratifiedShuffleSplit(n_splits=10, test_size=0.1, random_state=1)\n",
    "rmse_scores = list()\n",
    "r2_scores = list()\n",
    "\n",
    "for train_index, test_index in split.split(songs_x, songs[\"year_cat\"]):\n",
    "    strat_songs_x_train, strat_songs_x_test = songs_x[train_index], songs_x[test_index]\n",
    "    strat_songs_y_train, strat_songs_y_test = songs_y[train_index], songs_y[test_index]\n",
    "    \n",
    "    #Train and execute the model\n",
    "    regr = make_pipeline(PolynomialFeatures(3), Ridge())\n",
    "    regr.named_steps['ridge'].fit(strat_songs_x_train, strat_songs_y_train)\n",
    "    songs_y_pred = regr.named_steps['ridge'].predict(strat_songs_x_test)\n",
    "    songs_y_pred = songs_y_pred.round()\n",
    "\n",
    "    #compute scores\n",
    "    rmse_scores.append(np.sqrt(mean_squared_error(strat_songs_y_test, songs_y_pred)))\n",
    "    r2_scores.append(r2_score(strat_songs_y_test, songs_y_pred))"
   ]
  },
  {
   "cell_type": "code",
   "execution_count": 14,
   "metadata": {},
   "outputs": [
    {
     "data": {
      "text/plain": [
       "array([  2.15647373e-05,   9.48848443e-04,   4.44233589e-03,\n",
       "         5.24238765e-02,   1.72129733e-01,   7.70033641e-01])"
      ]
     },
     "execution_count": 14,
     "metadata": {},
     "output_type": "execute_result"
    }
   ],
   "source": [
    "#Checking if the test set has same distribution in categories compared to the entire dataset (songs)\n",
    "strat_songs_x_test=np.insert(strat_songs_x_test, 0, np.ceil((strat_songs_y_test-np.min(songs_y)) / size), axis=1)\n",
    "cat, count = np.unique(strat_songs_x_test[:,0], return_counts=True)\n",
    "count/len(strat_songs_x_test)"
   ]
  },
  {
   "cell_type": "code",
   "execution_count": 15,
   "metadata": {},
   "outputs": [
    {
     "name": "stdout",
     "output_type": "stream",
     "text": [
      "Mean: 9.74455536877\n",
      "Mean: 0.20736910174\n"
     ]
    }
   ],
   "source": [
    "display_scores(rmse_scores)\n",
    "display_scores(r2_scores)"
   ]
  },
  {
   "cell_type": "code",
   "execution_count": null,
   "metadata": {
    "collapsed": true
   },
   "outputs": [],
   "source": []
  }
 ],
 "metadata": {
  "kernelspec": {
   "display_name": "Python 3",
   "language": "python",
   "name": "python3"
  },
  "language_info": {
   "codemirror_mode": {
    "name": "ipython",
    "version": 3
   },
   "file_extension": ".py",
   "mimetype": "text/x-python",
   "name": "python",
   "nbconvert_exporter": "python",
   "pygments_lexer": "ipython3",
   "version": "3.5.2"
  },
  "toc": {
   "colors": {
    "hover_highlight": "#DAA520",
    "navigate_num": "#000000",
    "navigate_text": "#333333",
    "running_highlight": "#FF0000",
    "selected_highlight": "#FFD700",
    "sidebar_border": "#EEEEEE",
    "wrapper_background": "#FFFFFF"
   },
   "moveMenuLeft": true,
   "nav_menu": {
    "height": "12px",
    "width": "252px"
   },
   "navigate_menu": true,
   "number_sections": true,
   "sideBar": true,
   "threshold": 4,
   "toc_cell": false,
   "toc_section_display": "block",
   "toc_window_display": false,
   "widenNotebook": false
  }
 },
 "nbformat": 4,
 "nbformat_minor": 2
}
