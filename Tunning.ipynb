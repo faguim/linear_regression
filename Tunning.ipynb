{
 "cells": [
  {
   "cell_type": "code",
   "execution_count": 1,
   "metadata": {
    "collapsed": true
   },
   "outputs": [],
   "source": [
    "import pandas as pd\n",
    "%matplotlib inline\n",
    "import matplotlib.pyplot as plt\n",
    "from sklearn.linear_model import LinearRegression\n",
    "import numpy as np\n",
    "from sklearn import datasets, linear_model\n",
    "from sklearn import preprocessing\n",
    "from sklearn.model_selection import train_test_split\n",
    "from sklearn.metrics import mean_squared_error\n",
    "from sklearn.pipeline import Pipeline\n",
    "from sklearn.preprocessing import StandardScaler\n",
    "from sklearn.preprocessing import PolynomialFeatures\n",
    "from sklearn.linear_model import Ridge, SGDRegressor\n",
    "from sklearn.pipeline import make_pipeline\n",
    "\n",
    "DATASET_PATH = \"datasets/\"\n",
    "\n",
    "def load_song_data(dataset_path=DATASET_PATH):\n",
    "    df = pd.read_csv(dataset_path + 'year-prediction-msd-train.txt', sep=\",\", header=None)\n",
    "    return df"
   ]
  },
  {
   "cell_type": "code",
   "execution_count": 2,
   "metadata": {
    "collapsed": true
   },
   "outputs": [],
   "source": [
    "def iter_minibatches(chunksize):\n",
    "    chunkstartmarker = 0\n",
    "    while chunkstartmarker < len(songs):\n",
    "        x_chunk = songs_x_train[chunkstartmarker:chunkstartmarker+chunksize]\n",
    "        y_chunk = songs_y_train[chunkstartmarker:chunkstartmarker+chunksize]\n",
    "        yield x_chunk, y_chunk\n",
    "        chunkstartmarker += chunksize"
   ]
  },
  {
   "cell_type": "code",
   "execution_count": 3,
   "metadata": {
    "collapsed": true
   },
   "outputs": [],
   "source": [
    "#songs é um DataFrame\n",
    "songs = load_song_data()"
   ]
  },
  {
   "cell_type": "code",
   "execution_count": 4,
   "metadata": {
    "collapsed": true
   },
   "outputs": [],
   "source": [
    "songs_x = songs.iloc[:,1:]\n",
    "songs_y = songs.iloc[:,0]\n",
    "#songs_x = songs_x.values.reshape(-1,1)\n",
    "songs_y = songs_y.values.reshape(-1,1)"
   ]
  },
  {
   "cell_type": "code",
   "execution_count": 5,
   "metadata": {
    "collapsed": true
   },
   "outputs": [],
   "source": [
    "#Normalizing\n",
    "num_pipeline = Pipeline([\n",
    "    ('std_scaler', StandardScaler()),\n",
    "])\n",
    "prepared = num_pipeline.fit_transform(songs_x)"
   ]
  },
  {
   "cell_type": "code",
   "execution_count": 6,
   "metadata": {
    "collapsed": true
   },
   "outputs": [],
   "source": [
    "songs_x_train, songs_x_test, songs_y_train, songs_y_test = train_test_split(prepared, songs_y, test_size=0.045, random_state=0)"
   ]
  },
  {
   "cell_type": "code",
   "execution_count": 7,
   "metadata": {},
   "outputs": [
    {
     "name": "stderr",
     "output_type": "stream",
     "text": [
      "/home/fagner/anaconda3/lib/python3.6/site-packages/sklearn/utils/validation.py:526: DataConversionWarning: A column-vector y was passed when a 1d array was expected. Please change the shape of y to (n_samples, ), for example using ravel().\n",
      "  y = column_or_1d(y, warn=True)\n"
     ]
    }
   ],
   "source": [
    "for count, degree in enumerate([2]):\n",
    "    batcherator = iter_minibatches(chunksize=1000)\n",
    "    regr = make_pipeline(PolynomialFeatures(degree), SGDRegressor(learning_rate='invscaling', eta0=0.001))\n",
    "    \n",
    "    for x_chunk, y_chunk in batcherator:\n",
    "        if(len(x_chunk)!=0):\n",
    "            regr.named_steps['sgdregressor'].partial_fit(x_chunk, y_chunk)\n",
    "    \n",
    "songs_y_pred = regr.named_steps['sgdregressor'].predict(songs_x_test)"
   ]
  },
  {
   "cell_type": "code",
   "execution_count": 8,
   "metadata": {},
   "outputs": [
    {
     "name": "stdout",
     "output_type": "stream",
     "text": [
      "Estimated intercept:  [ 1998.36661289]\n",
      "Coefficients:  [  5.22521892e+00  -2.64670159e+00  -7.97856298e-01  -1.39416188e+00\n",
      "  -2.50587275e-01  -2.23565230e+00   4.13016948e-01  -9.34815825e-01\n",
      "  -8.27384110e-01   5.25684017e-01  -6.57380541e-02  -1.97507499e-01\n",
      "   1.03790728e+00   6.28977793e-01  -4.81380468e-01   8.58197780e-01\n",
      "   3.08793118e-01   1.03076891e+00   8.43921712e-01   1.07700909e+00\n",
      "   2.50551084e-01  -4.41119085e-01   1.42183477e+00   3.89100291e-01\n",
      "  -3.59286763e-01   4.27487473e-02   7.54274895e-01   6.80844827e-02\n",
      "   2.65001581e-01   1.55355554e-01  -9.57659408e-02  -6.26350936e-02\n",
      "  -4.58174806e-01   1.12100040e-01  -1.65665058e-02  -6.28047496e-01\n",
      "  -4.28660724e-02   1.88870246e-01   5.41109943e-01  -3.27090392e-01\n",
      "  -2.76203762e-01  -7.62275591e-02  -1.00449565e-01  -1.06868674e-01\n",
      "  -9.51075084e-02   2.41133280e-01   1.77175011e-01  -5.90514844e-01\n",
      "   3.82029799e-02   2.57605193e-01   2.29617739e-03  -1.55980147e-01\n",
      "   1.63114379e-01  -9.84267556e-02   5.14565325e-02  -1.80047630e-02\n",
      "  -5.17308846e-01   6.28105513e-01  -2.16434150e-01  -1.13858566e-01\n",
      "  -1.14537009e-01  -1.39541182e-01  -3.14575106e-02   3.47842069e-01\n",
      "  -5.74113693e-01   1.36219975e-01  -3.97094326e-02  -1.37018395e-02\n",
      "  -4.74503451e-01  -9.75145100e-03  -2.55775740e-01  -4.75025874e-02\n",
      "   1.86472161e-01   4.13764147e-01   1.57409335e-01   3.16555805e-01\n",
      "   1.11913183e-01  -5.68807076e-01   6.07258733e-03  -6.04523335e-02\n",
      "   4.21917550e-02  -1.71538455e-01   1.39168647e-01   3.28756343e-02\n",
      "   4.28541425e-01  -1.14874113e-01   2.08498896e-01  -2.52035542e-01\n",
      "  -2.18894217e-01  -9.80443904e-02]\n",
      "Mean squared error: 9.62\n"
     ]
    }
   ],
   "source": [
    "# The coefficients\n",
    "print('Estimated intercept: ', regr.named_steps['sgdregressor'].intercept_)\n",
    "\n",
    "# The coefficients\n",
    "print('Coefficients: ', regr.named_steps['sgdregressor'].coef_)\n",
    "\n",
    "# The mean squared error\n",
    "print(\"Mean squared error: %.2f\"\n",
    "      % np.sqrt(mean_squared_error(songs_y_test, songs_y_pred)))"
   ]
  }
 ],
 "metadata": {
  "kernelspec": {
   "display_name": "Python 3",
   "language": "python",
   "name": "python3"
  },
  "language_info": {
   "codemirror_mode": {
    "name": "ipython",
    "version": 3
   },
   "file_extension": ".py",
   "mimetype": "text/x-python",
   "name": "python",
   "nbconvert_exporter": "python",
   "pygments_lexer": "ipython3",
   "version": "3.6.1"
  },
  "toc": {
   "colors": {
    "hover_highlight": "#DAA520",
    "navigate_num": "#000000",
    "navigate_text": "#333333",
    "running_highlight": "#FF0000",
    "selected_highlight": "#FFD700",
    "sidebar_border": "#EEEEEE",
    "wrapper_background": "#FFFFFF"
   },
   "moveMenuLeft": true,
   "nav_menu": {
    "height": "12px",
    "width": "252px"
   },
   "navigate_menu": true,
   "number_sections": true,
   "sideBar": true,
   "threshold": 4,
   "toc_cell": false,
   "toc_section_display": "block",
   "toc_window_display": false,
   "widenNotebook": false
  }
 },
 "nbformat": 4,
 "nbformat_minor": 2
}
